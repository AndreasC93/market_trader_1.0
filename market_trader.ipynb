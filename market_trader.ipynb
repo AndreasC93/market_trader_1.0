{
 "cells": [
  {
   "cell_type": "code",
   "execution_count": 1,
   "metadata": {},
   "outputs": [],
   "source": [
    "import os\n",
    "from pathlib import Path\n",
    "from dotenv import load_dotenv\n",
    "abs_path = Path(r'C:/users/makyol/documents/nufintech/.env')\n",
    "#load_dotenv(abs_path)\n",
    "load_dotenv()\n",
    "alpaca_api_key = os.getenv(\"ALPACA_API_KEY\")\n",
    "alpaca_secret_key = os.getenv(\"ALPACA_SECRET_KEY\")\n",
    "import datetime\n",
    "from datetime import date\n",
    "import pandas as pd\n",
    "import numpy as np\n",
    "import time\n",
    "import pytz\n",
    "from datetime import timedelta\n",
    "from sklearn.preprocessing import StandardScaler\n",
    "\n",
    "pd.set_option('display.float_format', lambda x: '%.10f' % x)\n",
    "pd.set_option('display.float_format', lambda x: '%.10f' % x)"
   ]
  },
  {
   "cell_type": "code",
   "execution_count": 2,
   "metadata": {},
   "outputs": [],
   "source": [
    "#!pip install alpaca-trade-api\n",
    "import alpaca_trade_api as tradeapi"
   ]
  },
  {
   "cell_type": "code",
   "execution_count": 3,
   "metadata": {},
   "outputs": [],
   "source": [
    "api = tradeapi.REST(alpaca_api_key, alpaca_secret_key, api_version='v2')"
   ]
  },
  {
   "cell_type": "code",
   "execution_count": 4,
   "metadata": {},
   "outputs": [],
   "source": [
    "ticker_list = [ 'SPY','QQQ','UUP','GLD', 'USO']"
   ]
  },
  {
   "cell_type": "code",
   "execution_count": 5,
   "metadata": {},
   "outputs": [],
   "source": [
    "#function to get close prices from api\n",
    "def pullingPrices(start_date_str,numDays, ticker_list,timeframe='1Min', candle_part = 'close'):\n",
    "    prices = pd.DataFrame()\n",
    "    counter = 0\n",
    "    for single_date in (datetime.datetime.strptime(start_date_str,\"%Y-%m-%d\") +datetime.timedelta(days=n) for n in range(numDays)):\n",
    "        start =  pd.Timestamp(f'{single_date} 01:00:15-0400', tz='America/New_York').replace(hour=9, minute=30, second=15).astimezone('GMT').isoformat()[:-6]+'Z'\n",
    "        end   =  pd.Timestamp(f'{single_date} 01:00:15-0400', tz='America/New_York').replace(hour=16, minute=0, second=15).astimezone('GMT').isoformat()[:-6]+'Z'\n",
    "        df = api.get_barset(ticker_list, timeframe,limit=1000, start=start, end=end).df  \n",
    "\n",
    "        #bar_list= ['open','close','high', 'low', 'volume']\n",
    "        # candle_part is the part of bar chart that we keep\n",
    "        #bar_list.remove(candle_part)\n",
    "        #df.drop(columns=bar_list, level=1, inplace=True)        \n",
    "        df = df.droplevel(axis=1, level=1)\n",
    "        #print(df.head)\n",
    "        # We are using forward fill to fill data points that are missing with previous prices, since Alpaca reports minutes without any trades occuring as missing but technically the price is stil lthe same\n",
    "        #df.ffill(inplace=True)    \n",
    "        prices = pd.concat([prices,df],axis=0)\n",
    "        counter = counter + 1\n",
    "        if counter % 20 ==0:\n",
    "            print(start)\n",
    "    del df\n",
    "    return prices"
   ]
  },
  {
   "cell_type": "code",
   "execution_count": 7,
   "metadata": {},
   "outputs": [
    {
     "name": "stdout",
     "output_type": "stream",
     "text": [
      "2015-11-28T14:30:15Z\n",
      "2015-12-18T14:30:15Z\n",
      "2016-01-07T14:30:15Z\n",
      "2016-01-27T14:30:15Z\n",
      "2016-02-16T14:30:15Z\n",
      "2016-03-07T14:30:15Z\n",
      "2016-03-27T13:30:15Z\n",
      "2016-04-16T13:30:15Z\n",
      "2016-05-06T13:30:15Z\n",
      "2016-05-26T13:30:15Z\n",
      "2016-06-15T13:30:15Z\n",
      "2016-07-05T13:30:15Z\n",
      "2016-07-25T13:30:15Z\n",
      "2016-08-14T13:30:15Z\n"
     ]
    },
    {
     "name": "stderr",
     "output_type": "stream",
     "text": [
      "sleep 3 seconds and retrying https://data.alpaca.markets/v1/bars/1D 3 more time(s)...\n"
     ]
    },
    {
     "name": "stdout",
     "output_type": "stream",
     "text": [
      "2016-09-03T13:30:15Z\n"
     ]
    },
    {
     "name": "stderr",
     "output_type": "stream",
     "text": [
      "sleep 3 seconds and retrying https://data.alpaca.markets/v1/bars/1D 3 more time(s)...\n",
      "sleep 3 seconds and retrying https://data.alpaca.markets/v1/bars/1D 3 more time(s)...\n"
     ]
    },
    {
     "name": "stdout",
     "output_type": "stream",
     "text": [
      "2016-09-23T13:30:15Z\n"
     ]
    },
    {
     "name": "stderr",
     "output_type": "stream",
     "text": [
      "sleep 3 seconds and retrying https://data.alpaca.markets/v1/bars/1D 3 more time(s)...\n"
     ]
    },
    {
     "name": "stdout",
     "output_type": "stream",
     "text": [
      "2016-10-13T13:30:15Z\n"
     ]
    },
    {
     "name": "stderr",
     "output_type": "stream",
     "text": [
      "sleep 3 seconds and retrying https://data.alpaca.markets/v1/bars/1D 3 more time(s)...\n"
     ]
    },
    {
     "name": "stdout",
     "output_type": "stream",
     "text": [
      "2016-11-02T13:30:15Z\n"
     ]
    },
    {
     "name": "stderr",
     "output_type": "stream",
     "text": [
      "sleep 3 seconds and retrying https://data.alpaca.markets/v1/bars/1D 3 more time(s)...\n",
      "sleep 3 seconds and retrying https://data.alpaca.markets/v1/bars/1D 3 more time(s)...\n"
     ]
    },
    {
     "name": "stdout",
     "output_type": "stream",
     "text": [
      "2016-11-22T14:30:15Z\n"
     ]
    },
    {
     "name": "stderr",
     "output_type": "stream",
     "text": [
      "sleep 3 seconds and retrying https://data.alpaca.markets/v1/bars/1D 3 more time(s)...\n"
     ]
    },
    {
     "name": "stdout",
     "output_type": "stream",
     "text": [
      "2016-12-12T14:30:15Z\n"
     ]
    },
    {
     "name": "stderr",
     "output_type": "stream",
     "text": [
      "sleep 3 seconds and retrying https://data.alpaca.markets/v1/bars/1D 3 more time(s)...\n"
     ]
    },
    {
     "name": "stdout",
     "output_type": "stream",
     "text": [
      "2017-01-01T14:30:15Z\n"
     ]
    },
    {
     "name": "stderr",
     "output_type": "stream",
     "text": [
      "sleep 3 seconds and retrying https://data.alpaca.markets/v1/bars/1D 3 more time(s)...\n",
      "sleep 3 seconds and retrying https://data.alpaca.markets/v1/bars/1D 3 more time(s)...\n"
     ]
    },
    {
     "name": "stdout",
     "output_type": "stream",
     "text": [
      "2017-01-21T14:30:15Z\n"
     ]
    },
    {
     "name": "stderr",
     "output_type": "stream",
     "text": [
      "sleep 3 seconds and retrying https://data.alpaca.markets/v1/bars/1D 3 more time(s)...\n"
     ]
    },
    {
     "name": "stdout",
     "output_type": "stream",
     "text": [
      "2017-02-10T14:30:15Z\n"
     ]
    },
    {
     "name": "stderr",
     "output_type": "stream",
     "text": [
      "sleep 3 seconds and retrying https://data.alpaca.markets/v1/bars/1D 3 more time(s)...\n",
      "sleep 3 seconds and retrying https://data.alpaca.markets/v1/bars/1D 3 more time(s)...\n"
     ]
    },
    {
     "name": "stdout",
     "output_type": "stream",
     "text": [
      "2017-03-02T14:30:15Z\n"
     ]
    },
    {
     "name": "stderr",
     "output_type": "stream",
     "text": [
      "sleep 3 seconds and retrying https://data.alpaca.markets/v1/bars/1D 3 more time(s)...\n"
     ]
    },
    {
     "name": "stdout",
     "output_type": "stream",
     "text": [
      "2017-03-22T13:30:15Z\n"
     ]
    },
    {
     "name": "stderr",
     "output_type": "stream",
     "text": [
      "sleep 3 seconds and retrying https://data.alpaca.markets/v1/bars/1D 3 more time(s)...\n"
     ]
    },
    {
     "name": "stdout",
     "output_type": "stream",
     "text": [
      "2017-04-11T13:30:15Z\n"
     ]
    },
    {
     "name": "stderr",
     "output_type": "stream",
     "text": [
      "sleep 3 seconds and retrying https://data.alpaca.markets/v1/bars/1D 3 more time(s)...\n",
      "sleep 3 seconds and retrying https://data.alpaca.markets/v1/bars/1D 3 more time(s)...\n"
     ]
    },
    {
     "name": "stdout",
     "output_type": "stream",
     "text": [
      "2017-05-01T13:30:15Z\n"
     ]
    },
    {
     "name": "stderr",
     "output_type": "stream",
     "text": [
      "sleep 3 seconds and retrying https://data.alpaca.markets/v1/bars/1D 3 more time(s)...\n"
     ]
    },
    {
     "name": "stdout",
     "output_type": "stream",
     "text": [
      "2017-05-21T13:30:15Z\n"
     ]
    },
    {
     "name": "stderr",
     "output_type": "stream",
     "text": [
      "sleep 3 seconds and retrying https://data.alpaca.markets/v1/bars/1D 3 more time(s)...\n"
     ]
    },
    {
     "name": "stdout",
     "output_type": "stream",
     "text": [
      "2017-06-10T13:30:15Z\n"
     ]
    },
    {
     "name": "stderr",
     "output_type": "stream",
     "text": [
      "sleep 3 seconds and retrying https://data.alpaca.markets/v1/bars/1D 3 more time(s)...\n",
      "sleep 3 seconds and retrying https://data.alpaca.markets/v1/bars/1D 3 more time(s)...\n"
     ]
    },
    {
     "name": "stdout",
     "output_type": "stream",
     "text": [
      "2017-06-30T13:30:15Z\n"
     ]
    },
    {
     "name": "stderr",
     "output_type": "stream",
     "text": [
      "sleep 3 seconds and retrying https://data.alpaca.markets/v1/bars/1D 3 more time(s)...\n"
     ]
    },
    {
     "name": "stdout",
     "output_type": "stream",
     "text": [
      "2017-07-20T13:30:15Z\n"
     ]
    },
    {
     "name": "stderr",
     "output_type": "stream",
     "text": [
      "sleep 3 seconds and retrying https://data.alpaca.markets/v1/bars/1D 3 more time(s)...\n",
      "sleep 3 seconds and retrying https://data.alpaca.markets/v1/bars/1D 3 more time(s)...\n"
     ]
    },
    {
     "name": "stdout",
     "output_type": "stream",
     "text": [
      "2017-08-09T13:30:15Z\n"
     ]
    },
    {
     "name": "stderr",
     "output_type": "stream",
     "text": [
      "sleep 3 seconds and retrying https://data.alpaca.markets/v1/bars/1D 3 more time(s)...\n"
     ]
    },
    {
     "name": "stdout",
     "output_type": "stream",
     "text": [
      "2017-08-29T13:30:15Z\n"
     ]
    },
    {
     "name": "stderr",
     "output_type": "stream",
     "text": [
      "sleep 3 seconds and retrying https://data.alpaca.markets/v1/bars/1D 3 more time(s)...\n",
      "sleep 3 seconds and retrying https://data.alpaca.markets/v1/bars/1D 3 more time(s)...\n"
     ]
    },
    {
     "name": "stdout",
     "output_type": "stream",
     "text": [
      "2017-09-18T13:30:15Z\n"
     ]
    },
    {
     "name": "stderr",
     "output_type": "stream",
     "text": [
      "sleep 3 seconds and retrying https://data.alpaca.markets/v1/bars/1D 3 more time(s)...\n"
     ]
    },
    {
     "name": "stdout",
     "output_type": "stream",
     "text": [
      "2017-10-08T13:30:15Z\n"
     ]
    },
    {
     "name": "stderr",
     "output_type": "stream",
     "text": [
      "sleep 3 seconds and retrying https://data.alpaca.markets/v1/bars/1D 3 more time(s)...\n"
     ]
    },
    {
     "name": "stdout",
     "output_type": "stream",
     "text": [
      "2017-10-28T13:30:15Z\n"
     ]
    },
    {
     "name": "stderr",
     "output_type": "stream",
     "text": [
      "sleep 3 seconds and retrying https://data.alpaca.markets/v1/bars/1D 3 more time(s)...\n",
      "sleep 3 seconds and retrying https://data.alpaca.markets/v1/bars/1D 3 more time(s)...\n"
     ]
    },
    {
     "name": "stdout",
     "output_type": "stream",
     "text": [
      "2017-11-17T14:30:15Z\n"
     ]
    },
    {
     "name": "stderr",
     "output_type": "stream",
     "text": [
      "sleep 3 seconds and retrying https://data.alpaca.markets/v1/bars/1D 3 more time(s)...\n"
     ]
    },
    {
     "name": "stdout",
     "output_type": "stream",
     "text": [
      "2017-12-07T14:30:15Z\n"
     ]
    },
    {
     "name": "stderr",
     "output_type": "stream",
     "text": [
      "sleep 3 seconds and retrying https://data.alpaca.markets/v1/bars/1D 3 more time(s)...\n"
     ]
    },
    {
     "name": "stdout",
     "output_type": "stream",
     "text": [
      "2017-12-27T14:30:15Z\n"
     ]
    },
    {
     "name": "stderr",
     "output_type": "stream",
     "text": [
      "sleep 3 seconds and retrying https://data.alpaca.markets/v1/bars/1D 3 more time(s)...\n",
      "sleep 3 seconds and retrying https://data.alpaca.markets/v1/bars/1D 3 more time(s)...\n"
     ]
    },
    {
     "name": "stdout",
     "output_type": "stream",
     "text": [
      "2018-01-16T14:30:15Z\n"
     ]
    },
    {
     "name": "stderr",
     "output_type": "stream",
     "text": [
      "sleep 3 seconds and retrying https://data.alpaca.markets/v1/bars/1D 3 more time(s)...\n"
     ]
    },
    {
     "name": "stdout",
     "output_type": "stream",
     "text": [
      "2018-02-05T14:30:15Z\n"
     ]
    },
    {
     "name": "stderr",
     "output_type": "stream",
     "text": [
      "sleep 3 seconds and retrying https://data.alpaca.markets/v1/bars/1D 3 more time(s)...\n"
     ]
    },
    {
     "name": "stdout",
     "output_type": "stream",
     "text": [
      "2018-02-25T14:30:15Z\n"
     ]
    },
    {
     "name": "stderr",
     "output_type": "stream",
     "text": [
      "sleep 3 seconds and retrying https://data.alpaca.markets/v1/bars/1D 3 more time(s)...\n"
     ]
    },
    {
     "name": "stdout",
     "output_type": "stream",
     "text": [
      "2018-03-17T13:30:15Z\n"
     ]
    },
    {
     "name": "stderr",
     "output_type": "stream",
     "text": [
      "sleep 3 seconds and retrying https://data.alpaca.markets/v1/bars/1D 3 more time(s)...\n",
      "sleep 3 seconds and retrying https://data.alpaca.markets/v1/bars/1D 3 more time(s)...\n"
     ]
    },
    {
     "name": "stdout",
     "output_type": "stream",
     "text": [
      "2018-04-06T13:30:15Z\n"
     ]
    },
    {
     "name": "stderr",
     "output_type": "stream",
     "text": [
      "sleep 3 seconds and retrying https://data.alpaca.markets/v1/bars/1D 3 more time(s)...\n"
     ]
    },
    {
     "name": "stdout",
     "output_type": "stream",
     "text": [
      "2018-04-26T13:30:15Z\n"
     ]
    },
    {
     "name": "stderr",
     "output_type": "stream",
     "text": [
      "sleep 3 seconds and retrying https://data.alpaca.markets/v1/bars/1D 3 more time(s)...\n"
     ]
    },
    {
     "name": "stdout",
     "output_type": "stream",
     "text": [
      "2018-05-16T13:30:15Z\n"
     ]
    },
    {
     "name": "stderr",
     "output_type": "stream",
     "text": [
      "sleep 3 seconds and retrying https://data.alpaca.markets/v1/bars/1D 3 more time(s)...\n",
      "sleep 3 seconds and retrying https://data.alpaca.markets/v1/bars/1D 3 more time(s)...\n"
     ]
    },
    {
     "name": "stdout",
     "output_type": "stream",
     "text": [
      "2018-06-05T13:30:15Z\n"
     ]
    },
    {
     "name": "stderr",
     "output_type": "stream",
     "text": [
      "sleep 3 seconds and retrying https://data.alpaca.markets/v1/bars/1D 3 more time(s)...\n"
     ]
    },
    {
     "name": "stdout",
     "output_type": "stream",
     "text": [
      "2018-06-25T13:30:15Z\n"
     ]
    },
    {
     "name": "stderr",
     "output_type": "stream",
     "text": [
      "sleep 3 seconds and retrying https://data.alpaca.markets/v1/bars/1D 3 more time(s)...\n"
     ]
    },
    {
     "name": "stdout",
     "output_type": "stream",
     "text": [
      "2018-07-15T13:30:15Z\n"
     ]
    },
    {
     "name": "stderr",
     "output_type": "stream",
     "text": [
      "sleep 3 seconds and retrying https://data.alpaca.markets/v1/bars/1D 3 more time(s)...\n",
      "sleep 3 seconds and retrying https://data.alpaca.markets/v1/bars/1D 3 more time(s)...\n"
     ]
    },
    {
     "name": "stdout",
     "output_type": "stream",
     "text": [
      "2018-08-04T13:30:15Z\n"
     ]
    },
    {
     "name": "stderr",
     "output_type": "stream",
     "text": [
      "sleep 3 seconds and retrying https://data.alpaca.markets/v1/bars/1D 3 more time(s)...\n"
     ]
    },
    {
     "name": "stdout",
     "output_type": "stream",
     "text": [
      "2018-08-24T13:30:15Z\n"
     ]
    },
    {
     "name": "stderr",
     "output_type": "stream",
     "text": [
      "sleep 3 seconds and retrying https://data.alpaca.markets/v1/bars/1D 3 more time(s)...\n"
     ]
    },
    {
     "name": "stdout",
     "output_type": "stream",
     "text": [
      "2018-09-13T13:30:15Z\n"
     ]
    },
    {
     "name": "stderr",
     "output_type": "stream",
     "text": [
      "sleep 3 seconds and retrying https://data.alpaca.markets/v1/bars/1D 3 more time(s)...\n",
      "sleep 3 seconds and retrying https://data.alpaca.markets/v1/bars/1D 3 more time(s)...\n"
     ]
    },
    {
     "name": "stdout",
     "output_type": "stream",
     "text": [
      "2018-10-03T13:30:15Z\n"
     ]
    },
    {
     "name": "stderr",
     "output_type": "stream",
     "text": [
      "sleep 3 seconds and retrying https://data.alpaca.markets/v1/bars/1D 3 more time(s)...\n"
     ]
    },
    {
     "name": "stdout",
     "output_type": "stream",
     "text": [
      "2018-10-23T13:30:15Z\n"
     ]
    },
    {
     "name": "stderr",
     "output_type": "stream",
     "text": [
      "sleep 3 seconds and retrying https://data.alpaca.markets/v1/bars/1D 3 more time(s)...\n"
     ]
    },
    {
     "name": "stdout",
     "output_type": "stream",
     "text": [
      "2018-11-12T14:30:15Z\n"
     ]
    },
    {
     "name": "stderr",
     "output_type": "stream",
     "text": [
      "sleep 3 seconds and retrying https://data.alpaca.markets/v1/bars/1D 3 more time(s)...\n",
      "sleep 3 seconds and retrying https://data.alpaca.markets/v1/bars/1D 3 more time(s)...\n"
     ]
    },
    {
     "name": "stdout",
     "output_type": "stream",
     "text": [
      "2018-12-02T14:30:15Z\n"
     ]
    },
    {
     "name": "stderr",
     "output_type": "stream",
     "text": [
      "sleep 3 seconds and retrying https://data.alpaca.markets/v1/bars/1D 3 more time(s)...\n"
     ]
    },
    {
     "name": "stdout",
     "output_type": "stream",
     "text": [
      "2018-12-22T14:30:15Z\n"
     ]
    },
    {
     "name": "stderr",
     "output_type": "stream",
     "text": [
      "sleep 3 seconds and retrying https://data.alpaca.markets/v1/bars/1D 3 more time(s)...\n"
     ]
    },
    {
     "name": "stdout",
     "output_type": "stream",
     "text": [
      "2019-01-11T14:30:15Z\n"
     ]
    },
    {
     "name": "stderr",
     "output_type": "stream",
     "text": [
      "sleep 3 seconds and retrying https://data.alpaca.markets/v1/bars/1D 3 more time(s)...\n",
      "sleep 3 seconds and retrying https://data.alpaca.markets/v1/bars/1D 3 more time(s)...\n"
     ]
    },
    {
     "name": "stdout",
     "output_type": "stream",
     "text": [
      "2019-01-31T14:30:15Z\n"
     ]
    },
    {
     "name": "stderr",
     "output_type": "stream",
     "text": [
      "sleep 3 seconds and retrying https://data.alpaca.markets/v1/bars/1D 3 more time(s)...\n"
     ]
    },
    {
     "name": "stdout",
     "output_type": "stream",
     "text": [
      "2019-02-20T14:30:15Z\n"
     ]
    },
    {
     "name": "stderr",
     "output_type": "stream",
     "text": [
      "sleep 3 seconds and retrying https://data.alpaca.markets/v1/bars/1D 3 more time(s)...\n"
     ]
    },
    {
     "name": "stdout",
     "output_type": "stream",
     "text": [
      "2019-03-12T13:30:15Z\n"
     ]
    },
    {
     "name": "stderr",
     "output_type": "stream",
     "text": [
      "sleep 3 seconds and retrying https://data.alpaca.markets/v1/bars/1D 3 more time(s)...\n",
      "sleep 3 seconds and retrying https://data.alpaca.markets/v1/bars/1D 3 more time(s)...\n"
     ]
    },
    {
     "name": "stdout",
     "output_type": "stream",
     "text": [
      "2019-04-01T13:30:15Z\n"
     ]
    },
    {
     "name": "stderr",
     "output_type": "stream",
     "text": [
      "sleep 3 seconds and retrying https://data.alpaca.markets/v1/bars/1D 3 more time(s)...\n"
     ]
    },
    {
     "name": "stdout",
     "output_type": "stream",
     "text": [
      "2019-04-21T13:30:15Z\n"
     ]
    },
    {
     "name": "stderr",
     "output_type": "stream",
     "text": [
      "sleep 3 seconds and retrying https://data.alpaca.markets/v1/bars/1D 3 more time(s)...\n"
     ]
    },
    {
     "name": "stdout",
     "output_type": "stream",
     "text": [
      "2019-05-11T13:30:15Z\n"
     ]
    },
    {
     "name": "stderr",
     "output_type": "stream",
     "text": [
      "sleep 3 seconds and retrying https://data.alpaca.markets/v1/bars/1D 3 more time(s)...\n",
      "sleep 3 seconds and retrying https://data.alpaca.markets/v1/bars/1D 3 more time(s)...\n"
     ]
    },
    {
     "name": "stdout",
     "output_type": "stream",
     "text": [
      "2019-05-31T13:30:15Z\n"
     ]
    },
    {
     "name": "stderr",
     "output_type": "stream",
     "text": [
      "sleep 3 seconds and retrying https://data.alpaca.markets/v1/bars/1D 3 more time(s)...\n"
     ]
    },
    {
     "name": "stdout",
     "output_type": "stream",
     "text": [
      "2019-06-20T13:30:15Z\n"
     ]
    },
    {
     "name": "stderr",
     "output_type": "stream",
     "text": [
      "sleep 3 seconds and retrying https://data.alpaca.markets/v1/bars/1D 3 more time(s)...\n",
      "sleep 3 seconds and retrying https://data.alpaca.markets/v1/bars/1D 3 more time(s)...\n"
     ]
    },
    {
     "name": "stdout",
     "output_type": "stream",
     "text": [
      "2019-07-10T13:30:15Z\n"
     ]
    },
    {
     "name": "stderr",
     "output_type": "stream",
     "text": [
      "sleep 3 seconds and retrying https://data.alpaca.markets/v1/bars/1D 3 more time(s)...\n"
     ]
    },
    {
     "name": "stdout",
     "output_type": "stream",
     "text": [
      "2019-07-30T13:30:15Z\n"
     ]
    },
    {
     "name": "stderr",
     "output_type": "stream",
     "text": [
      "sleep 3 seconds and retrying https://data.alpaca.markets/v1/bars/1D 3 more time(s)...\n"
     ]
    },
    {
     "name": "stdout",
     "output_type": "stream",
     "text": [
      "2019-08-19T13:30:15Z\n"
     ]
    },
    {
     "name": "stderr",
     "output_type": "stream",
     "text": [
      "sleep 3 seconds and retrying https://data.alpaca.markets/v1/bars/1D 3 more time(s)...\n",
      "sleep 3 seconds and retrying https://data.alpaca.markets/v1/bars/1D 3 more time(s)...\n"
     ]
    },
    {
     "name": "stdout",
     "output_type": "stream",
     "text": [
      "2019-09-08T13:30:15Z\n"
     ]
    },
    {
     "name": "stderr",
     "output_type": "stream",
     "text": [
      "sleep 3 seconds and retrying https://data.alpaca.markets/v1/bars/1D 3 more time(s)...\n"
     ]
    },
    {
     "name": "stdout",
     "output_type": "stream",
     "text": [
      "2019-09-28T13:30:15Z\n"
     ]
    },
    {
     "name": "stderr",
     "output_type": "stream",
     "text": [
      "sleep 3 seconds and retrying https://data.alpaca.markets/v1/bars/1D 3 more time(s)...\n"
     ]
    },
    {
     "name": "stdout",
     "output_type": "stream",
     "text": [
      "2019-10-18T13:30:15Z\n"
     ]
    },
    {
     "name": "stderr",
     "output_type": "stream",
     "text": [
      "sleep 3 seconds and retrying https://data.alpaca.markets/v1/bars/1D 3 more time(s)...\n",
      "sleep 3 seconds and retrying https://data.alpaca.markets/v1/bars/1D 3 more time(s)...\n"
     ]
    },
    {
     "name": "stdout",
     "output_type": "stream",
     "text": [
      "2019-11-07T14:30:15Z\n"
     ]
    },
    {
     "name": "stderr",
     "output_type": "stream",
     "text": [
      "sleep 3 seconds and retrying https://data.alpaca.markets/v1/bars/1D 3 more time(s)...\n"
     ]
    },
    {
     "name": "stdout",
     "output_type": "stream",
     "text": [
      "2019-11-27T14:30:15Z\n"
     ]
    },
    {
     "name": "stderr",
     "output_type": "stream",
     "text": [
      "sleep 3 seconds and retrying https://data.alpaca.markets/v1/bars/1D 3 more time(s)...\n"
     ]
    },
    {
     "name": "stdout",
     "output_type": "stream",
     "text": [
      "2019-12-17T14:30:15Z\n"
     ]
    },
    {
     "name": "stderr",
     "output_type": "stream",
     "text": [
      "sleep 3 seconds and retrying https://data.alpaca.markets/v1/bars/1D 3 more time(s)...\n",
      "sleep 3 seconds and retrying https://data.alpaca.markets/v1/bars/1D 3 more time(s)...\n"
     ]
    },
    {
     "name": "stdout",
     "output_type": "stream",
     "text": [
      "2020-01-06T14:30:15Z\n"
     ]
    },
    {
     "name": "stderr",
     "output_type": "stream",
     "text": [
      "sleep 3 seconds and retrying https://data.alpaca.markets/v1/bars/1D 3 more time(s)...\n"
     ]
    },
    {
     "name": "stdout",
     "output_type": "stream",
     "text": [
      "2020-01-26T14:30:15Z\n"
     ]
    },
    {
     "name": "stderr",
     "output_type": "stream",
     "text": [
      "sleep 3 seconds and retrying https://data.alpaca.markets/v1/bars/1D 3 more time(s)...\n",
      "sleep 3 seconds and retrying https://data.alpaca.markets/v1/bars/1D 3 more time(s)...\n"
     ]
    },
    {
     "name": "stdout",
     "output_type": "stream",
     "text": [
      "2020-02-15T14:30:15Z\n"
     ]
    },
    {
     "name": "stderr",
     "output_type": "stream",
     "text": [
      "sleep 3 seconds and retrying https://data.alpaca.markets/v1/bars/1D 3 more time(s)...\n"
     ]
    },
    {
     "name": "stdout",
     "output_type": "stream",
     "text": [
      "2020-03-06T14:30:15Z\n"
     ]
    },
    {
     "name": "stderr",
     "output_type": "stream",
     "text": [
      "sleep 3 seconds and retrying https://data.alpaca.markets/v1/bars/1D 3 more time(s)...\n"
     ]
    },
    {
     "name": "stdout",
     "output_type": "stream",
     "text": [
      "2020-03-26T13:30:15Z\n"
     ]
    },
    {
     "name": "stderr",
     "output_type": "stream",
     "text": [
      "sleep 3 seconds and retrying https://data.alpaca.markets/v1/bars/1D 3 more time(s)...\n",
      "sleep 3 seconds and retrying https://data.alpaca.markets/v1/bars/1D 3 more time(s)...\n"
     ]
    },
    {
     "name": "stdout",
     "output_type": "stream",
     "text": [
      "2020-04-15T13:30:15Z\n"
     ]
    },
    {
     "name": "stderr",
     "output_type": "stream",
     "text": [
      "sleep 3 seconds and retrying https://data.alpaca.markets/v1/bars/1D 3 more time(s)...\n"
     ]
    },
    {
     "name": "stdout",
     "output_type": "stream",
     "text": [
      "2020-05-05T13:30:15Z\n"
     ]
    },
    {
     "name": "stderr",
     "output_type": "stream",
     "text": [
      "sleep 3 seconds and retrying https://data.alpaca.markets/v1/bars/1D 3 more time(s)...\n"
     ]
    },
    {
     "name": "stdout",
     "output_type": "stream",
     "text": [
      "2020-05-25T13:30:15Z\n"
     ]
    },
    {
     "name": "stderr",
     "output_type": "stream",
     "text": [
      "sleep 3 seconds and retrying https://data.alpaca.markets/v1/bars/1D 3 more time(s)...\n",
      "sleep 3 seconds and retrying https://data.alpaca.markets/v1/bars/1D 3 more time(s)...\n"
     ]
    },
    {
     "name": "stdout",
     "output_type": "stream",
     "text": [
      "2020-06-14T13:30:15Z\n"
     ]
    },
    {
     "name": "stderr",
     "output_type": "stream",
     "text": [
      "sleep 3 seconds and retrying https://data.alpaca.markets/v1/bars/1D 3 more time(s)...\n"
     ]
    },
    {
     "name": "stdout",
     "output_type": "stream",
     "text": [
      "2020-07-04T13:30:15Z\n"
     ]
    },
    {
     "name": "stderr",
     "output_type": "stream",
     "text": [
      "sleep 3 seconds and retrying https://data.alpaca.markets/v1/bars/1D 3 more time(s)...\n"
     ]
    },
    {
     "name": "stdout",
     "output_type": "stream",
     "text": [
      "2020-07-24T13:30:15Z\n"
     ]
    },
    {
     "name": "stderr",
     "output_type": "stream",
     "text": [
      "sleep 3 seconds and retrying https://data.alpaca.markets/v1/bars/1D 3 more time(s)...\n",
      "sleep 3 seconds and retrying https://data.alpaca.markets/v1/bars/1D 3 more time(s)...\n"
     ]
    },
    {
     "name": "stdout",
     "output_type": "stream",
     "text": [
      "2020-08-13T13:30:15Z\n"
     ]
    },
    {
     "name": "stderr",
     "output_type": "stream",
     "text": [
      "sleep 3 seconds and retrying https://data.alpaca.markets/v1/bars/1D 3 more time(s)...\n"
     ]
    },
    {
     "name": "stdout",
     "output_type": "stream",
     "text": [
      "2020-09-02T13:30:15Z\n"
     ]
    },
    {
     "name": "stderr",
     "output_type": "stream",
     "text": [
      "sleep 3 seconds and retrying https://data.alpaca.markets/v1/bars/1D 3 more time(s)...\n"
     ]
    },
    {
     "name": "stdout",
     "output_type": "stream",
     "text": [
      "2020-09-22T13:30:15Z\n"
     ]
    },
    {
     "name": "stderr",
     "output_type": "stream",
     "text": [
      "sleep 3 seconds and retrying https://data.alpaca.markets/v1/bars/1D 3 more time(s)...\n"
     ]
    },
    {
     "name": "stdout",
     "output_type": "stream",
     "text": [
      "2020-10-12T13:30:15Z\n"
     ]
    },
    {
     "name": "stderr",
     "output_type": "stream",
     "text": [
      "sleep 3 seconds and retrying https://data.alpaca.markets/v1/bars/1D 3 more time(s)...\n",
      "sleep 3 seconds and retrying https://data.alpaca.markets/v1/bars/1D 3 more time(s)...\n"
     ]
    },
    {
     "name": "stdout",
     "output_type": "stream",
     "text": [
      "2020-11-01T14:30:15Z\n"
     ]
    },
    {
     "data": {
      "text/html": [
       "<div>\n",
       "<style scoped>\n",
       "    .dataframe tbody tr th:only-of-type {\n",
       "        vertical-align: middle;\n",
       "    }\n",
       "\n",
       "    .dataframe tbody tr th {\n",
       "        vertical-align: top;\n",
       "    }\n",
       "\n",
       "    .dataframe thead th {\n",
       "        text-align: right;\n",
       "    }\n",
       "</style>\n",
       "<table border=\"1\" class=\"dataframe\">\n",
       "  <thead>\n",
       "    <tr style=\"text-align: right;\">\n",
       "      <th></th>\n",
       "      <th>GLD</th>\n",
       "      <th>GLD</th>\n",
       "      <th>GLD</th>\n",
       "      <th>GLD</th>\n",
       "      <th>GLD</th>\n",
       "      <th>QQQ</th>\n",
       "      <th>QQQ</th>\n",
       "      <th>QQQ</th>\n",
       "      <th>QQQ</th>\n",
       "      <th>QQQ</th>\n",
       "      <th>...</th>\n",
       "      <th>USO</th>\n",
       "      <th>USO</th>\n",
       "      <th>USO</th>\n",
       "      <th>USO</th>\n",
       "      <th>USO</th>\n",
       "      <th>UUP</th>\n",
       "      <th>UUP</th>\n",
       "      <th>UUP</th>\n",
       "      <th>UUP</th>\n",
       "      <th>UUP</th>\n",
       "    </tr>\n",
       "  </thead>\n",
       "  <tbody>\n",
       "    <tr>\n",
       "      <th>2020-11-02 00:00:00-05:00</th>\n",
       "      <td>177.4499000000</td>\n",
       "      <td>177.9250000000</td>\n",
       "      <td>177.1301000000</td>\n",
       "      <td>177.9000000000</td>\n",
       "      <td>6065736</td>\n",
       "      <td>271.7300000000</td>\n",
       "      <td>273.5200000000</td>\n",
       "      <td>266.9700000000</td>\n",
       "      <td>270.0500000000</td>\n",
       "      <td>34768771</td>\n",
       "      <td>...</td>\n",
       "      <td>25.1600000000</td>\n",
       "      <td>26.2900000000</td>\n",
       "      <td>25.1400000000</td>\n",
       "      <td>26.2400000000</td>\n",
       "      <td>5095824</td>\n",
       "      <td>25.4100000000</td>\n",
       "      <td>25.4300000000</td>\n",
       "      <td>25.3800000000</td>\n",
       "      <td>25.3950000000</td>\n",
       "      <td>1585875</td>\n",
       "    </tr>\n",
       "    <tr>\n",
       "      <th>2020-11-03 00:00:00-05:00</th>\n",
       "      <td>178.9500000000</td>\n",
       "      <td>179.3900000000</td>\n",
       "      <td>178.3000000000</td>\n",
       "      <td>178.9200000000</td>\n",
       "      <td>6776879</td>\n",
       "      <td>271.8600000000</td>\n",
       "      <td>276.8200000000</td>\n",
       "      <td>270.8400000000</td>\n",
       "      <td>274.6300000000</td>\n",
       "      <td>37296060</td>\n",
       "      <td>...</td>\n",
       "      <td>26.9400000000</td>\n",
       "      <td>27.0100000000</td>\n",
       "      <td>26.4500000000</td>\n",
       "      <td>26.7200000000</td>\n",
       "      <td>6625114</td>\n",
       "      <td>25.2300000000</td>\n",
       "      <td>25.2700000000</td>\n",
       "      <td>25.1800000000</td>\n",
       "      <td>25.2600000000</td>\n",
       "      <td>4024848</td>\n",
       "    </tr>\n",
       "    <tr>\n",
       "      <th>2020-11-04 00:00:00-05:00</th>\n",
       "      <td>178.9300000000</td>\n",
       "      <td>179.1900000000</td>\n",
       "      <td>177.6600000000</td>\n",
       "      <td>178.8100000000</td>\n",
       "      <td>9843659</td>\n",
       "      <td>283.5600000000</td>\n",
       "      <td>288.7700000000</td>\n",
       "      <td>281.8700000000</td>\n",
       "      <td>286.8500000000</td>\n",
       "      <td>62388325</td>\n",
       "      <td>...</td>\n",
       "      <td>27.1200000000</td>\n",
       "      <td>27.6300000000</td>\n",
       "      <td>26.6889000000</td>\n",
       "      <td>27.4400000000</td>\n",
       "      <td>5540211</td>\n",
       "      <td>25.2700000000</td>\n",
       "      <td>25.3000000000</td>\n",
       "      <td>25.1850000000</td>\n",
       "      <td>25.2200000000</td>\n",
       "      <td>1010599</td>\n",
       "    </tr>\n",
       "    <tr>\n",
       "      <th>2020-11-05 00:00:00-05:00</th>\n",
       "      <td>181.0000000000</td>\n",
       "      <td>183.2850000000</td>\n",
       "      <td>180.9700000000</td>\n",
       "      <td>182.9200000000</td>\n",
       "      <td>14794385</td>\n",
       "      <td>293.4100000000</td>\n",
       "      <td>295.3900000000</td>\n",
       "      <td>292.0000000000</td>\n",
       "      <td>294.3100000000</td>\n",
       "      <td>43540539</td>\n",
       "      <td>...</td>\n",
       "      <td>27.4100000000</td>\n",
       "      <td>27.7000000000</td>\n",
       "      <td>27.0800000000</td>\n",
       "      <td>27.1500000000</td>\n",
       "      <td>4886959</td>\n",
       "      <td>25.0100000000</td>\n",
       "      <td>25.0689000000</td>\n",
       "      <td>24.9500000000</td>\n",
       "      <td>24.9800000000</td>\n",
       "      <td>1511949</td>\n",
       "    </tr>\n",
       "    <tr>\n",
       "      <th>2020-11-06 00:00:00-05:00</th>\n",
       "      <td>183.4000000000</td>\n",
       "      <td>183.5300000000</td>\n",
       "      <td>182.1900000000</td>\n",
       "      <td>183.2100000000</td>\n",
       "      <td>8253934</td>\n",
       "      <td>293.5800000000</td>\n",
       "      <td>295.3600000000</td>\n",
       "      <td>289.8300000000</td>\n",
       "      <td>294.6500000000</td>\n",
       "      <td>34001999</td>\n",
       "      <td>...</td>\n",
       "      <td>26.8300000000</td>\n",
       "      <td>26.8700000000</td>\n",
       "      <td>26.2000000000</td>\n",
       "      <td>26.4600000000</td>\n",
       "      <td>4730576</td>\n",
       "      <td>24.9200000000</td>\n",
       "      <td>24.9700000000</td>\n",
       "      <td>24.8700000000</td>\n",
       "      <td>24.8950000000</td>\n",
       "      <td>3409301</td>\n",
       "    </tr>\n",
       "  </tbody>\n",
       "</table>\n",
       "<p>5 rows × 25 columns</p>\n",
       "</div>"
      ],
      "text/plain": [
       "                                     GLD            GLD            GLD  \\\n",
       "2020-11-02 00:00:00-05:00 177.4499000000 177.9250000000 177.1301000000   \n",
       "2020-11-03 00:00:00-05:00 178.9500000000 179.3900000000 178.3000000000   \n",
       "2020-11-04 00:00:00-05:00 178.9300000000 179.1900000000 177.6600000000   \n",
       "2020-11-05 00:00:00-05:00 181.0000000000 183.2850000000 180.9700000000   \n",
       "2020-11-06 00:00:00-05:00 183.4000000000 183.5300000000 182.1900000000   \n",
       "\n",
       "                                     GLD       GLD            QQQ  \\\n",
       "2020-11-02 00:00:00-05:00 177.9000000000   6065736 271.7300000000   \n",
       "2020-11-03 00:00:00-05:00 178.9200000000   6776879 271.8600000000   \n",
       "2020-11-04 00:00:00-05:00 178.8100000000   9843659 283.5600000000   \n",
       "2020-11-05 00:00:00-05:00 182.9200000000  14794385 293.4100000000   \n",
       "2020-11-06 00:00:00-05:00 183.2100000000   8253934 293.5800000000   \n",
       "\n",
       "                                     QQQ            QQQ            QQQ  \\\n",
       "2020-11-02 00:00:00-05:00 273.5200000000 266.9700000000 270.0500000000   \n",
       "2020-11-03 00:00:00-05:00 276.8200000000 270.8400000000 274.6300000000   \n",
       "2020-11-04 00:00:00-05:00 288.7700000000 281.8700000000 286.8500000000   \n",
       "2020-11-05 00:00:00-05:00 295.3900000000 292.0000000000 294.3100000000   \n",
       "2020-11-06 00:00:00-05:00 295.3600000000 289.8300000000 294.6500000000   \n",
       "\n",
       "                                QQQ  ...           USO           USO  \\\n",
       "2020-11-02 00:00:00-05:00  34768771  ... 25.1600000000 26.2900000000   \n",
       "2020-11-03 00:00:00-05:00  37296060  ... 26.9400000000 27.0100000000   \n",
       "2020-11-04 00:00:00-05:00  62388325  ... 27.1200000000 27.6300000000   \n",
       "2020-11-05 00:00:00-05:00  43540539  ... 27.4100000000 27.7000000000   \n",
       "2020-11-06 00:00:00-05:00  34001999  ... 26.8300000000 26.8700000000   \n",
       "\n",
       "                                    USO           USO      USO           UUP  \\\n",
       "2020-11-02 00:00:00-05:00 25.1400000000 26.2400000000  5095824 25.4100000000   \n",
       "2020-11-03 00:00:00-05:00 26.4500000000 26.7200000000  6625114 25.2300000000   \n",
       "2020-11-04 00:00:00-05:00 26.6889000000 27.4400000000  5540211 25.2700000000   \n",
       "2020-11-05 00:00:00-05:00 27.0800000000 27.1500000000  4886959 25.0100000000   \n",
       "2020-11-06 00:00:00-05:00 26.2000000000 26.4600000000  4730576 24.9200000000   \n",
       "\n",
       "                                    UUP           UUP           UUP      UUP  \n",
       "2020-11-02 00:00:00-05:00 25.4300000000 25.3800000000 25.3950000000  1585875  \n",
       "2020-11-03 00:00:00-05:00 25.2700000000 25.1800000000 25.2600000000  4024848  \n",
       "2020-11-04 00:00:00-05:00 25.3000000000 25.1850000000 25.2200000000  1010599  \n",
       "2020-11-05 00:00:00-05:00 25.0689000000 24.9500000000 24.9800000000  1511949  \n",
       "2020-11-06 00:00:00-05:00 24.9700000000 24.8700000000 24.8950000000  3409301  \n",
       "\n",
       "[5 rows x 25 columns]"
      ]
     },
     "execution_count": 7,
     "metadata": {},
     "output_type": "execute_result"
    }
   ],
   "source": [
    "#get 5yrs of data from current date 11/9/2020 \n",
    "start_date_str = '2015-11-09'\n",
    "timeframe = \"1D\"\n",
    "numDays = 1825\n",
    "#ticker_list = ticker_list_2019_Dec_31_corrected # this should always be set to Dec 31st from the year prior to avoid lookahead bias\n",
    "#ticker_list = ticker_list_2015_Jan_01 \n",
    "close_prices = pullingPrices(start_date_str,numDays, ticker_list,timeframe, candle_part = 'close')\n",
    "close_prices.tail()"
   ]
  },
  {
   "cell_type": "code",
   "execution_count": 17,
   "metadata": {},
   "outputs": [],
   "source": [
    "close_prices.to_csv('data.csv')"
   ]
  },
  {
   "cell_type": "code",
   "execution_count": 28,
   "metadata": {},
   "outputs": [
    {
     "data": {
      "text/html": [
       "<div>\n",
       "<style scoped>\n",
       "    .dataframe tbody tr th:only-of-type {\n",
       "        vertical-align: middle;\n",
       "    }\n",
       "\n",
       "    .dataframe tbody tr th {\n",
       "        vertical-align: top;\n",
       "    }\n",
       "\n",
       "    .dataframe thead th {\n",
       "        text-align: right;\n",
       "    }\n",
       "</style>\n",
       "<table border=\"1\" class=\"dataframe\">\n",
       "  <thead>\n",
       "    <tr style=\"text-align: right;\">\n",
       "      <th></th>\n",
       "      <th>Unnamed: 0</th>\n",
       "      <th>GLD</th>\n",
       "      <th>GLD.1</th>\n",
       "      <th>GLD.2</th>\n",
       "      <th>GLD.3</th>\n",
       "      <th>GLD.4</th>\n",
       "      <th>QQQ</th>\n",
       "      <th>QQQ.1</th>\n",
       "      <th>QQQ.2</th>\n",
       "      <th>QQQ.3</th>\n",
       "      <th>...</th>\n",
       "      <th>USO</th>\n",
       "      <th>USO.1</th>\n",
       "      <th>USO.2</th>\n",
       "      <th>USO.3</th>\n",
       "      <th>USO.4</th>\n",
       "      <th>UUP</th>\n",
       "      <th>UUP.1</th>\n",
       "      <th>UUP.2</th>\n",
       "      <th>UUP.3</th>\n",
       "      <th>UUP.4</th>\n",
       "    </tr>\n",
       "  </thead>\n",
       "  <tbody>\n",
       "    <tr>\n",
       "      <th>0</th>\n",
       "      <td>2015-11-09 00:00:00-05:00</td>\n",
       "      <td>104.2900000000</td>\n",
       "      <td>104.5800000000</td>\n",
       "      <td>104.1900000000</td>\n",
       "      <td>104.4200000000</td>\n",
       "      <td>2952497</td>\n",
       "      <td>111.3100000000</td>\n",
       "      <td>111.4500000000</td>\n",
       "      <td>109.8500000000</td>\n",
       "      <td>110.5500000000</td>\n",
       "      <td>...</td>\n",
       "      <td>14.1000000000</td>\n",
       "      <td>14.2300000000</td>\n",
       "      <td>13.9500000000</td>\n",
       "      <td>14.0700000000</td>\n",
       "      <td>20241453</td>\n",
       "      <td>25.8600000000</td>\n",
       "      <td>25.8600000000</td>\n",
       "      <td>25.7400000000</td>\n",
       "      <td>25.7850000000</td>\n",
       "      <td>2030949.0000000000</td>\n",
       "    </tr>\n",
       "    <tr>\n",
       "      <th>1</th>\n",
       "      <td>2015-11-10 00:00:00-05:00</td>\n",
       "      <td>104.0900000000</td>\n",
       "      <td>104.6500000000</td>\n",
       "      <td>103.8700000000</td>\n",
       "      <td>104.1600000000</td>\n",
       "      <td>3251645</td>\n",
       "      <td>109.9600000000</td>\n",
       "      <td>110.3700000000</td>\n",
       "      <td>109.6300000000</td>\n",
       "      <td>110.2700000000</td>\n",
       "      <td>...</td>\n",
       "      <td>14.0000000000</td>\n",
       "      <td>14.2900000000</td>\n",
       "      <td>13.9900000000</td>\n",
       "      <td>14.1000000000</td>\n",
       "      <td>14326780</td>\n",
       "      <td>25.8900000000</td>\n",
       "      <td>25.9100000000</td>\n",
       "      <td>25.8200000000</td>\n",
       "      <td>25.8500000000</td>\n",
       "      <td>1333733.0000000000</td>\n",
       "    </tr>\n",
       "    <tr>\n",
       "      <th>2</th>\n",
       "      <td>2015-11-11 00:00:00-05:00</td>\n",
       "      <td>104.0900000000</td>\n",
       "      <td>104.2300000000</td>\n",
       "      <td>103.7800000000</td>\n",
       "      <td>103.8100000000</td>\n",
       "      <td>2816992</td>\n",
       "      <td>110.6000000000</td>\n",
       "      <td>111.1300000000</td>\n",
       "      <td>109.9800000000</td>\n",
       "      <td>110.1300000000</td>\n",
       "      <td>...</td>\n",
       "      <td>14.0600000000</td>\n",
       "      <td>14.0883000000</td>\n",
       "      <td>13.6400000000</td>\n",
       "      <td>13.7600000000</td>\n",
       "      <td>21989908</td>\n",
       "      <td>25.7900000000</td>\n",
       "      <td>25.8200000000</td>\n",
       "      <td>25.7400000000</td>\n",
       "      <td>25.7650000000</td>\n",
       "      <td>12410638.0000000000</td>\n",
       "    </tr>\n",
       "    <tr>\n",
       "      <th>3</th>\n",
       "      <td>2015-11-12 00:00:00-05:00</td>\n",
       "      <td>103.0900000000</td>\n",
       "      <td>104.3200000000</td>\n",
       "      <td>103.0400000000</td>\n",
       "      <td>103.8311000000</td>\n",
       "      <td>4859175</td>\n",
       "      <td>109.6800000000</td>\n",
       "      <td>110.2500000000</td>\n",
       "      <td>109.0100000000</td>\n",
       "      <td>109.0600000000</td>\n",
       "      <td>...</td>\n",
       "      <td>13.4500000000</td>\n",
       "      <td>13.7000000000</td>\n",
       "      <td>13.3200000000</td>\n",
       "      <td>13.3400000000</td>\n",
       "      <td>29996706</td>\n",
       "      <td>25.8000000000</td>\n",
       "      <td>25.8100000000</td>\n",
       "      <td>25.6300000000</td>\n",
       "      <td>25.6700000000</td>\n",
       "      <td>5146429.0000000000</td>\n",
       "    </tr>\n",
       "    <tr>\n",
       "      <th>4</th>\n",
       "      <td>2015-11-13 00:00:00-05:00</td>\n",
       "      <td>103.5400000000</td>\n",
       "      <td>103.7400000000</td>\n",
       "      <td>103.4500000000</td>\n",
       "      <td>103.5800000000</td>\n",
       "      <td>2717184</td>\n",
       "      <td>108.5900000000</td>\n",
       "      <td>108.7100000000</td>\n",
       "      <td>106.8500000000</td>\n",
       "      <td>106.9200000000</td>\n",
       "      <td>...</td>\n",
       "      <td>13.2000000000</td>\n",
       "      <td>13.2300000000</td>\n",
       "      <td>12.9100000000</td>\n",
       "      <td>13.0600000000</td>\n",
       "      <td>33037957</td>\n",
       "      <td>25.7700000000</td>\n",
       "      <td>25.8364000000</td>\n",
       "      <td>25.7600000000</td>\n",
       "      <td>25.7700000000</td>\n",
       "      <td>1019210.0000000000</td>\n",
       "    </tr>\n",
       "  </tbody>\n",
       "</table>\n",
       "<p>5 rows × 26 columns</p>\n",
       "</div>"
      ],
      "text/plain": [
       "                  Unnamed: 0            GLD          GLD.1          GLD.2  \\\n",
       "0  2015-11-09 00:00:00-05:00 104.2900000000 104.5800000000 104.1900000000   \n",
       "1  2015-11-10 00:00:00-05:00 104.0900000000 104.6500000000 103.8700000000   \n",
       "2  2015-11-11 00:00:00-05:00 104.0900000000 104.2300000000 103.7800000000   \n",
       "3  2015-11-12 00:00:00-05:00 103.0900000000 104.3200000000 103.0400000000   \n",
       "4  2015-11-13 00:00:00-05:00 103.5400000000 103.7400000000 103.4500000000   \n",
       "\n",
       "           GLD.3    GLD.4            QQQ          QQQ.1          QQQ.2  \\\n",
       "0 104.4200000000  2952497 111.3100000000 111.4500000000 109.8500000000   \n",
       "1 104.1600000000  3251645 109.9600000000 110.3700000000 109.6300000000   \n",
       "2 103.8100000000  2816992 110.6000000000 111.1300000000 109.9800000000   \n",
       "3 103.8311000000  4859175 109.6800000000 110.2500000000 109.0100000000   \n",
       "4 103.5800000000  2717184 108.5900000000 108.7100000000 106.8500000000   \n",
       "\n",
       "           QQQ.3  ...           USO         USO.1         USO.2         USO.3  \\\n",
       "0 110.5500000000  ... 14.1000000000 14.2300000000 13.9500000000 14.0700000000   \n",
       "1 110.2700000000  ... 14.0000000000 14.2900000000 13.9900000000 14.1000000000   \n",
       "2 110.1300000000  ... 14.0600000000 14.0883000000 13.6400000000 13.7600000000   \n",
       "3 109.0600000000  ... 13.4500000000 13.7000000000 13.3200000000 13.3400000000   \n",
       "4 106.9200000000  ... 13.2000000000 13.2300000000 12.9100000000 13.0600000000   \n",
       "\n",
       "      USO.4           UUP         UUP.1         UUP.2         UUP.3  \\\n",
       "0  20241453 25.8600000000 25.8600000000 25.7400000000 25.7850000000   \n",
       "1  14326780 25.8900000000 25.9100000000 25.8200000000 25.8500000000   \n",
       "2  21989908 25.7900000000 25.8200000000 25.7400000000 25.7650000000   \n",
       "3  29996706 25.8000000000 25.8100000000 25.6300000000 25.6700000000   \n",
       "4  33037957 25.7700000000 25.8364000000 25.7600000000 25.7700000000   \n",
       "\n",
       "                UUP.4  \n",
       "0  2030949.0000000000  \n",
       "1  1333733.0000000000  \n",
       "2 12410638.0000000000  \n",
       "3  5146429.0000000000  \n",
       "4  1019210.0000000000  \n",
       "\n",
       "[5 rows x 26 columns]"
      ]
     },
     "execution_count": 28,
     "metadata": {},
     "output_type": "execute_result"
    }
   ],
   "source": [
    "df = pd.read_csv(\n",
    "    Path('data.csv'),\n",
    "    infer_datetime_format =True,\n",
    "    parse_dates=True,\n",
    ")\n",
    "df.head()"
   ]
  },
  {
   "cell_type": "code",
   "execution_count": 29,
   "metadata": {},
   "outputs": [],
   "source": [
    "#Closing price = \"GLD.3\", \"QQQ.3\" etc.\n",
    "n = 30\n",
    "\n",
    "def rma(x, n, y0):\n",
    "    a = (n-1) / n\n",
    "    ak = a**np.arange(len(x)-1, -1, -1)\n",
    "    return np.append(y0, np.cumsum(ak * x) / ak / n + y0 * a**np.arange(1, len(x)+1))\n",
    "\n",
    "df['GLDchange'] = df['GLD.3'].diff()\n",
    "df['GLDgain'] = df.GLDchange.mask(df.GLDchange < 0, 0.0)\n",
    "df['GLDloss'] = -df.GLDchange.mask(df.GLDchange > 0, -0.0)\n",
    "df.loc[n:,'GLDavg_gain'] = rma( df.GLDgain[n+1:].values, n, df.loc[:n, 'GLDgain'].mean())\n",
    "df.loc[n:,'GLDavg_loss'] = rma( df.GLDloss[n+1:].values, n, df.loc[:n, 'GLDloss'].mean())\n",
    "df['GLDrs'] = df.GLDavg_gain / df.GLDavg_loss\n",
    "df['GLDrsi_30'] = 100 - (100 / (1 + df.GLDrs))\n",
    "\n",
    "df['QQQchange'] = df['QQQ.3'].diff()\n",
    "df['QQQgain'] = df.QQQchange.mask(df.QQQchange < 0, 0.0)\n",
    "df['QQQloss'] = -df.QQQchange.mask(df.QQQchange > 0, -0.0)\n",
    "df.loc[n:,'QQQavg_gain'] = rma( df.QQQgain[n+1:].values, n, df.loc[:n, 'QQQgain'].mean())\n",
    "df.loc[n:,'QQQavg_loss'] = rma( df.QQQloss[n+1:].values, n, df.loc[:n, 'QQQloss'].mean())\n",
    "df['QQQrs'] = df.QQQavg_gain / df.QQQavg_loss\n",
    "df['QQQrsi_30'] = 100 - (100 / (1 + df.QQQrs))\n",
    "\n",
    "df['UUPchange'] = df['UUP.3'].diff()\n",
    "df['UUPgain'] = df.UUPchange.mask(df.UUPchange < 0, 0.0)\n",
    "df['UUPloss'] = -df.UUPchange.mask(df.UUPchange > 0, -0.0)\n",
    "df.loc[n:,'UUPavg_gain'] = rma( df.UUPgain[n+1:].values, n, df.loc[:n, 'UUPgain'].mean())\n",
    "df.loc[n:,'UUPavg_loss'] = rma( df.UUPloss[n+1:].values, n, df.loc[:n, 'UUPloss'].mean())\n",
    "df['UUPrs'] = df.UUPavg_gain / df.UUPavg_loss\n",
    "df['UUPrsi_30'] = 100 - (100 / (1 + df.UUPrs))\n",
    "\n",
    "df['SPYchange'] = df['SPY.3'].diff()\n",
    "df['SPYgain'] = df.SPYchange.mask(df.SPYchange < 0, 0.0)\n",
    "df['SPYloss'] = -df.SPYchange.mask(df.SPYchange > 0, -0.0)\n",
    "df.loc[n:,'SPYavg_gain'] = rma( df.SPYgain[n+1:].values, n, df.loc[:n, 'SPYgain'].mean())\n",
    "df.loc[n:,'SPYavg_loss'] = rma( df.SPYloss[n+1:].values, n, df.loc[:n, 'SPYloss'].mean())\n",
    "df['SPYrs'] = df.SPYavg_gain / df.SPYavg_loss\n",
    "df['SPYrsi_30'] = 100 - (100 / (1 + df.SPYrs))\n",
    "\n",
    "df['USOchange'] = df['USO.3'].diff()\n",
    "df['USOgain'] = df.USOchange.mask(df.USOchange < 0, 0.0)\n",
    "df['USOloss'] = -df.USOchange.mask(df.USOchange > 0, -0.0)\n",
    "df.loc[n:,'USOavg_gain'] = rma( df.USOgain[n+1:].values, n, df.loc[:n, 'USOgain'].mean())\n",
    "df.loc[n:,'USOavg_loss'] = rma( df.USOloss[n+1:].values, n, df.loc[:n, 'USOloss'].mean())\n",
    "df['USOrs'] = df.USOavg_gain / df.USOavg_loss\n",
    "df['USOrsi_30'] = 100 - (100 / (1 + df.USOrs))\n",
    "\n",
    "#ticker_list = ['SPY','QQQ','UUP','UUP','USO']"
   ]
  },
  {
   "cell_type": "code",
   "execution_count": 30,
   "metadata": {},
   "outputs": [
    {
     "data": {
      "text/html": [
       "<div>\n",
       "<style scoped>\n",
       "    .dataframe tbody tr th:only-of-type {\n",
       "        vertical-align: middle;\n",
       "    }\n",
       "\n",
       "    .dataframe tbody tr th {\n",
       "        vertical-align: top;\n",
       "    }\n",
       "\n",
       "    .dataframe thead th {\n",
       "        text-align: right;\n",
       "    }\n",
       "</style>\n",
       "<table border=\"1\" class=\"dataframe\">\n",
       "  <thead>\n",
       "    <tr style=\"text-align: right;\">\n",
       "      <th></th>\n",
       "      <th>Unnamed: 0</th>\n",
       "      <th>GLD</th>\n",
       "      <th>GLD.1</th>\n",
       "      <th>GLD.2</th>\n",
       "      <th>GLD.3</th>\n",
       "      <th>GLD.4</th>\n",
       "      <th>QQQ</th>\n",
       "      <th>QQQ.1</th>\n",
       "      <th>QQQ.2</th>\n",
       "      <th>QQQ.3</th>\n",
       "      <th>...</th>\n",
       "      <th>SPYavg_loss</th>\n",
       "      <th>SPYrs</th>\n",
       "      <th>SPYrsi_30</th>\n",
       "      <th>USOchange</th>\n",
       "      <th>USOgain</th>\n",
       "      <th>USOloss</th>\n",
       "      <th>USOavg_gain</th>\n",
       "      <th>USOavg_loss</th>\n",
       "      <th>USOrs</th>\n",
       "      <th>USOrsi_30</th>\n",
       "    </tr>\n",
       "  </thead>\n",
       "  <tbody>\n",
       "    <tr>\n",
       "      <th>29</th>\n",
       "      <td>2015-12-21 00:00:00-05:00</td>\n",
       "      <td>102.9500000000</td>\n",
       "      <td>103.5200000000</td>\n",
       "      <td>102.8300000000</td>\n",
       "      <td>103.1600000000</td>\n",
       "      <td>4773318</td>\n",
       "      <td>108.2400000000</td>\n",
       "      <td>108.4500000000</td>\n",
       "      <td>107.4500000000</td>\n",
       "      <td>108.4300000000</td>\n",
       "      <td>...</td>\n",
       "      <td>nan</td>\n",
       "      <td>nan</td>\n",
       "      <td>nan</td>\n",
       "      <td>-0.0200000000</td>\n",
       "      <td>0.0000000000</td>\n",
       "      <td>0.0200000000</td>\n",
       "      <td>nan</td>\n",
       "      <td>nan</td>\n",
       "      <td>nan</td>\n",
       "      <td>nan</td>\n",
       "    </tr>\n",
       "    <tr>\n",
       "      <th>30</th>\n",
       "      <td>2015-12-22 00:00:00-05:00</td>\n",
       "      <td>103.0900000000</td>\n",
       "      <td>103.2000000000</td>\n",
       "      <td>102.5599000000</td>\n",
       "      <td>102.6000000000</td>\n",
       "      <td>3307823</td>\n",
       "      <td>109.0300000000</td>\n",
       "      <td>109.3200000000</td>\n",
       "      <td>108.4500000000</td>\n",
       "      <td>109.1400000000</td>\n",
       "      <td>...</td>\n",
       "      <td>0.9660000000</td>\n",
       "      <td>0.8429951691</td>\n",
       "      <td>45.7404980341</td>\n",
       "      <td>0.1200000000</td>\n",
       "      <td>0.1200000000</td>\n",
       "      <td>0.0000000000</td>\n",
       "      <td>0.0553333333</td>\n",
       "      <td>0.1653333333</td>\n",
       "      <td>0.3346774194</td>\n",
       "      <td>25.0755287009</td>\n",
       "    </tr>\n",
       "    <tr>\n",
       "      <th>31</th>\n",
       "      <td>2015-12-23 00:00:00-05:00</td>\n",
       "      <td>102.4000000000</td>\n",
       "      <td>102.5900000000</td>\n",
       "      <td>102.2100000000</td>\n",
       "      <td>102.3300000000</td>\n",
       "      <td>2143747</td>\n",
       "      <td>109.6800000000</td>\n",
       "      <td>110.0100000000</td>\n",
       "      <td>109.4900000000</td>\n",
       "      <td>109.9500000000</td>\n",
       "      <td>...</td>\n",
       "      <td>0.9338000000</td>\n",
       "      <td>0.9325932272</td>\n",
       "      <td>48.2560537868</td>\n",
       "      <td>0.4900000000</td>\n",
       "      <td>0.4900000000</td>\n",
       "      <td>0.0000000000</td>\n",
       "      <td>0.0698222222</td>\n",
       "      <td>0.1598222222</td>\n",
       "      <td>0.4368743048</td>\n",
       "      <td>30.4044900329</td>\n",
       "    </tr>\n",
       "    <tr>\n",
       "      <th>32</th>\n",
       "      <td>2015-12-24 00:00:00-05:00</td>\n",
       "      <td>102.8200000000</td>\n",
       "      <td>103.0300000000</td>\n",
       "      <td>102.7700000000</td>\n",
       "      <td>103.0100000000</td>\n",
       "      <td>1579805</td>\n",
       "      <td>109.9400000000</td>\n",
       "      <td>110.2600000000</td>\n",
       "      <td>109.9100000000</td>\n",
       "      <td>109.9300000000</td>\n",
       "      <td>...</td>\n",
       "      <td>0.9176733333</td>\n",
       "      <td>0.9173493513</td>\n",
       "      <td>47.8446638155</td>\n",
       "      <td>0.0400000000</td>\n",
       "      <td>0.0400000000</td>\n",
       "      <td>0.0000000000</td>\n",
       "      <td>0.0688281481</td>\n",
       "      <td>0.1544948148</td>\n",
       "      <td>0.4455045836</td>\n",
       "      <td>30.8200049090</td>\n",
       "    </tr>\n",
       "    <tr>\n",
       "      <th>33</th>\n",
       "      <td>2015-12-28 00:00:00-05:00</td>\n",
       "      <td>102.4800000000</td>\n",
       "      <td>102.5962000000</td>\n",
       "      <td>102.0300000000</td>\n",
       "      <td>102.2600000000</td>\n",
       "      <td>2923572</td>\n",
       "      <td>109.6900000000</td>\n",
       "      <td>109.9100000000</td>\n",
       "      <td>108.9000000000</td>\n",
       "      <td>109.8700000000</td>\n",
       "      <td>...</td>\n",
       "      <td>0.8997508889</td>\n",
       "      <td>0.9044349340</td>\n",
       "      <td>47.4909863209</td>\n",
       "      <td>-0.3900000000</td>\n",
       "      <td>0.0000000000</td>\n",
       "      <td>0.3900000000</td>\n",
       "      <td>0.0665338765</td>\n",
       "      <td>0.1623449877</td>\n",
       "      <td>0.4098301863</td>\n",
       "      <td>29.0694716511</td>\n",
       "    </tr>\n",
       "    <tr>\n",
       "      <th>34</th>\n",
       "      <td>2015-12-29 00:00:00-05:00</td>\n",
       "      <td>102.5200000000</td>\n",
       "      <td>102.5800000000</td>\n",
       "      <td>102.1100000000</td>\n",
       "      <td>102.1600000000</td>\n",
       "      <td>2563638</td>\n",
       "      <td>110.5700000000</td>\n",
       "      <td>111.8700000000</td>\n",
       "      <td>110.4900000000</td>\n",
       "      <td>111.6000000000</td>\n",
       "      <td>...</td>\n",
       "      <td>0.8697591926</td>\n",
       "      <td>0.9902824505</td>\n",
       "      <td>49.7558751154</td>\n",
       "      <td>0.3600000000</td>\n",
       "      <td>0.3600000000</td>\n",
       "      <td>0.0000000000</td>\n",
       "      <td>0.0763160807</td>\n",
       "      <td>0.1569334881</td>\n",
       "      <td>0.4862957014</td>\n",
       "      <td>32.7186374131</td>\n",
       "    </tr>\n",
       "    <tr>\n",
       "      <th>35</th>\n",
       "      <td>2015-12-30 00:00:00-05:00</td>\n",
       "      <td>101.4700000000</td>\n",
       "      <td>101.6000000000</td>\n",
       "      <td>101.3450000000</td>\n",
       "      <td>101.4300000000</td>\n",
       "      <td>2840080</td>\n",
       "      <td>111.4500000000</td>\n",
       "      <td>111.5300000000</td>\n",
       "      <td>110.5600000000</td>\n",
       "      <td>110.5900000000</td>\n",
       "      <td>...</td>\n",
       "      <td>0.8904338862</td>\n",
       "      <td>0.9350464256</td>\n",
       "      <td>48.3216533311</td>\n",
       "      <td>-0.3500000000</td>\n",
       "      <td>0.0000000000</td>\n",
       "      <td>0.3500000000</td>\n",
       "      <td>0.0737722113</td>\n",
       "      <td>0.1633690385</td>\n",
       "      <td>0.4515678858</td>\n",
       "      <td>31.1089746620</td>\n",
       "    </tr>\n",
       "    <tr>\n",
       "      <th>36</th>\n",
       "      <td>2015-12-31 00:00:00-05:00</td>\n",
       "      <td>101.4800000000</td>\n",
       "      <td>101.7200000000</td>\n",
       "      <td>101.3100000000</td>\n",
       "      <td>101.4500000000</td>\n",
       "      <td>2934400</td>\n",
       "      <td>110.1900000000</td>\n",
       "      <td>110.4000000000</td>\n",
       "      <td>109.1900000000</td>\n",
       "      <td>109.2200000000</td>\n",
       "      <td>...</td>\n",
       "      <td>0.9277527566</td>\n",
       "      <td>0.8675196949</td>\n",
       "      <td>46.4530412861</td>\n",
       "      <td>0.0900000000</td>\n",
       "      <td>0.0900000000</td>\n",
       "      <td>0.0000000000</td>\n",
       "      <td>0.0743131376</td>\n",
       "      <td>0.1579234038</td>\n",
       "      <td>0.4705644368</td>\n",
       "      <td>31.9988995409</td>\n",
       "    </tr>\n",
       "    <tr>\n",
       "      <th>37</th>\n",
       "      <td>2016-01-04 00:00:00-05:00</td>\n",
       "      <td>103.1300000000</td>\n",
       "      <td>103.6700000000</td>\n",
       "      <td>102.4850000000</td>\n",
       "      <td>102.8700000000</td>\n",
       "      <td>5226833</td>\n",
       "      <td>106.7700000000</td>\n",
       "      <td>106.9300000000</td>\n",
       "      <td>105.4900000000</td>\n",
       "      <td>106.9100000000</td>\n",
       "      <td>...</td>\n",
       "      <td>0.9948276647</td>\n",
       "      <td>0.7820607424</td>\n",
       "      <td>43.8851899835</td>\n",
       "      <td>-0.0300000000</td>\n",
       "      <td>0.0000000000</td>\n",
       "      <td>0.0300000000</td>\n",
       "      <td>0.0718360330</td>\n",
       "      <td>0.1536592904</td>\n",
       "      <td>0.4675020484</td>\n",
       "      <td>31.8569946044</td>\n",
       "    </tr>\n",
       "    <tr>\n",
       "      <th>38</th>\n",
       "      <td>2016-01-05 00:00:00-05:00</td>\n",
       "      <td>103.1300000000</td>\n",
       "      <td>103.4600000000</td>\n",
       "      <td>102.9300000000</td>\n",
       "      <td>103.1800000000</td>\n",
       "      <td>2968407</td>\n",
       "      <td>107.5100000000</td>\n",
       "      <td>107.6500000000</td>\n",
       "      <td>106.3000000000</td>\n",
       "      <td>106.7300000000</td>\n",
       "      <td>...</td>\n",
       "      <td>0.9616667426</td>\n",
       "      <td>0.7973120411</td>\n",
       "      <td>44.3613586761</td>\n",
       "      <td>-0.3201000000</td>\n",
       "      <td>0.0000000000</td>\n",
       "      <td>0.3201000000</td>\n",
       "      <td>0.0694414986</td>\n",
       "      <td>0.1592073140</td>\n",
       "      <td>0.4361702789</td>\n",
       "      <td>30.3703735783</td>\n",
       "    </tr>\n",
       "  </tbody>\n",
       "</table>\n",
       "<p>10 rows × 61 columns</p>\n",
       "</div>"
      ],
      "text/plain": [
       "                   Unnamed: 0            GLD          GLD.1          GLD.2  \\\n",
       "29  2015-12-21 00:00:00-05:00 102.9500000000 103.5200000000 102.8300000000   \n",
       "30  2015-12-22 00:00:00-05:00 103.0900000000 103.2000000000 102.5599000000   \n",
       "31  2015-12-23 00:00:00-05:00 102.4000000000 102.5900000000 102.2100000000   \n",
       "32  2015-12-24 00:00:00-05:00 102.8200000000 103.0300000000 102.7700000000   \n",
       "33  2015-12-28 00:00:00-05:00 102.4800000000 102.5962000000 102.0300000000   \n",
       "34  2015-12-29 00:00:00-05:00 102.5200000000 102.5800000000 102.1100000000   \n",
       "35  2015-12-30 00:00:00-05:00 101.4700000000 101.6000000000 101.3450000000   \n",
       "36  2015-12-31 00:00:00-05:00 101.4800000000 101.7200000000 101.3100000000   \n",
       "37  2016-01-04 00:00:00-05:00 103.1300000000 103.6700000000 102.4850000000   \n",
       "38  2016-01-05 00:00:00-05:00 103.1300000000 103.4600000000 102.9300000000   \n",
       "\n",
       "            GLD.3    GLD.4            QQQ          QQQ.1          QQQ.2  \\\n",
       "29 103.1600000000  4773318 108.2400000000 108.4500000000 107.4500000000   \n",
       "30 102.6000000000  3307823 109.0300000000 109.3200000000 108.4500000000   \n",
       "31 102.3300000000  2143747 109.6800000000 110.0100000000 109.4900000000   \n",
       "32 103.0100000000  1579805 109.9400000000 110.2600000000 109.9100000000   \n",
       "33 102.2600000000  2923572 109.6900000000 109.9100000000 108.9000000000   \n",
       "34 102.1600000000  2563638 110.5700000000 111.8700000000 110.4900000000   \n",
       "35 101.4300000000  2840080 111.4500000000 111.5300000000 110.5600000000   \n",
       "36 101.4500000000  2934400 110.1900000000 110.4000000000 109.1900000000   \n",
       "37 102.8700000000  5226833 106.7700000000 106.9300000000 105.4900000000   \n",
       "38 103.1800000000  2968407 107.5100000000 107.6500000000 106.3000000000   \n",
       "\n",
       "            QQQ.3  ...  SPYavg_loss        SPYrs     SPYrsi_30     USOchange  \\\n",
       "29 108.4300000000  ...          nan          nan           nan -0.0200000000   \n",
       "30 109.1400000000  ... 0.9660000000 0.8429951691 45.7404980341  0.1200000000   \n",
       "31 109.9500000000  ... 0.9338000000 0.9325932272 48.2560537868  0.4900000000   \n",
       "32 109.9300000000  ... 0.9176733333 0.9173493513 47.8446638155  0.0400000000   \n",
       "33 109.8700000000  ... 0.8997508889 0.9044349340 47.4909863209 -0.3900000000   \n",
       "34 111.6000000000  ... 0.8697591926 0.9902824505 49.7558751154  0.3600000000   \n",
       "35 110.5900000000  ... 0.8904338862 0.9350464256 48.3216533311 -0.3500000000   \n",
       "36 109.2200000000  ... 0.9277527566 0.8675196949 46.4530412861  0.0900000000   \n",
       "37 106.9100000000  ... 0.9948276647 0.7820607424 43.8851899835 -0.0300000000   \n",
       "38 106.7300000000  ... 0.9616667426 0.7973120411 44.3613586761 -0.3201000000   \n",
       "\n",
       "        USOgain      USOloss  USOavg_gain  USOavg_loss        USOrs  \\\n",
       "29 0.0000000000 0.0200000000          nan          nan          nan   \n",
       "30 0.1200000000 0.0000000000 0.0553333333 0.1653333333 0.3346774194   \n",
       "31 0.4900000000 0.0000000000 0.0698222222 0.1598222222 0.4368743048   \n",
       "32 0.0400000000 0.0000000000 0.0688281481 0.1544948148 0.4455045836   \n",
       "33 0.0000000000 0.3900000000 0.0665338765 0.1623449877 0.4098301863   \n",
       "34 0.3600000000 0.0000000000 0.0763160807 0.1569334881 0.4862957014   \n",
       "35 0.0000000000 0.3500000000 0.0737722113 0.1633690385 0.4515678858   \n",
       "36 0.0900000000 0.0000000000 0.0743131376 0.1579234038 0.4705644368   \n",
       "37 0.0000000000 0.0300000000 0.0718360330 0.1536592904 0.4675020484   \n",
       "38 0.0000000000 0.3201000000 0.0694414986 0.1592073140 0.4361702789   \n",
       "\n",
       "       USOrsi_30  \n",
       "29           nan  \n",
       "30 25.0755287009  \n",
       "31 30.4044900329  \n",
       "32 30.8200049090  \n",
       "33 29.0694716511  \n",
       "34 32.7186374131  \n",
       "35 31.1089746620  \n",
       "36 31.9988995409  \n",
       "37 31.8569946044  \n",
       "38 30.3703735783  \n",
       "\n",
       "[10 rows x 61 columns]"
      ]
     },
     "execution_count": 30,
     "metadata": {},
     "output_type": "execute_result"
    }
   ],
   "source": [
    "df[29:39]"
   ]
  },
  {
   "cell_type": "code",
   "execution_count": 31,
   "metadata": {},
   "outputs": [],
   "source": [
    "#Open price = \"GLD\", \"QQQ\" etc.\n",
    "n = 30\n",
    "\n",
    "def rma(x, n, y0):\n",
    "    a = (n-1) / n\n",
    "    ak = a**np.arange(len(x)-1, -1, -1)\n",
    "    return np.append(y0, np.cumsum(ak * x) / ak / n + y0 * a**np.arange(1, len(x)+1))\n",
    "\n",
    "df['GLDchange_O'] = df['GLD'].diff()\n",
    "df['GLDgain_O'] = df.GLDchange_O.mask(df.GLDchange_O < 0, 0.0)\n",
    "df['GLDloss_O'] = -df.GLDchange_O.mask(df.GLDchange_O > 0, -0.0)\n",
    "df.loc[n:,'GLDavg_gain_O'] = rma( df.GLDgain_O[n+1:].values, n, df.loc[:n, 'GLDgain_O'].mean())\n",
    "df.loc[n:,'GLDavg_loss_O'] = rma( df.GLDloss_O[n+1:].values, n, df.loc[:n, 'GLDloss_O'].mean())\n",
    "df['GLDrs_O'] = df.GLDavg_gain_O / df.GLDavg_loss_O\n",
    "df['GLDrsi_30_O'] = 100 - (100 / (1 + df.GLDrs_O))\n",
    "\n",
    "df['QQQchange_O'] = df['QQQ'].diff()\n",
    "df['QQQgain_O'] = df.QQQchange_O.mask(df.QQQchange_O < 0, 0.0)\n",
    "df['QQQloss_O'] = -df.QQQchange_O.mask(df.QQQchange_O > 0, -0.0)\n",
    "df.loc[n:,'QQQavg_gain_O'] = rma( df.QQQgain_O[n+1:].values, n, df.loc[:n, 'QQQgain_O'].mean())\n",
    "df.loc[n:,'QQQavg_loss_O'] = rma( df.QQQloss_O[n+1:].values, n, df.loc[:n, 'QQQloss_O'].mean())\n",
    "df['QQQrs_O'] = df.QQQavg_gain_O / df.QQQavg_loss_O\n",
    "df['QQQrsi_30_O'] = 100 - (100 / (1 + df.QQQrs_O))\n",
    "\n",
    "df['UUPchange_O'] = df['UUP'].diff()\n",
    "df['UUPgain_O'] = df.UUPchange_O.mask(df.UUPchange_O < 0, 0.0)\n",
    "df['UUPloss_O'] = -df.UUPchange_O.mask(df.UUPchange_O > 0, -0.0)\n",
    "df.loc[n:,'UUPavg_gain_O'] = rma( df.UUPgain_O[n+1:].values, n, df.loc[:n, 'UUPgain_O'].mean())\n",
    "df.loc[n:,'UUPavg_loss_O'] = rma( df.UUPloss_O[n+1:].values, n, df.loc[:n, 'UUPloss_O'].mean())\n",
    "df['UUPrs_O'] = df.UUPavg_gain_O / df.UUPavg_loss_O\n",
    "df['UUPrsi_30_O'] = 100 - (100 / (1 + df.UUPrs_O))\n",
    "\n",
    "df['SPYchange_O'] = df['SPY'].diff()\n",
    "df['SPYgain_O'] = df.SPYchange_O.mask(df.SPYchange_O < 0, 0.0)\n",
    "df['SPYloss_O'] = -df.SPYchange_O.mask(df.SPYchange_O > 0, -0.0)\n",
    "df.loc[n:,'SPYavg_gain_O'] = rma( df.SPYgain_O[n+1:].values, n, df.loc[:n, 'SPYgain_O'].mean())\n",
    "df.loc[n:,'SPYavg_loss_O'] = rma( df.SPYloss_O[n+1:].values, n, df.loc[:n, 'SPYloss_O'].mean())\n",
    "df['SPYrs_O'] = df.SPYavg_gain_O / df.SPYavg_loss_O\n",
    "df['SPYrsi_30_O'] = 100 - (100 / (1 + df.SPYrs_O))\n",
    "\n",
    "df['USOchange_O'] = df['USO'].diff()\n",
    "df['USOgain_O'] = df.USOchange_O.mask(df.USOchange_O < 0, 0.0)\n",
    "df['USOloss_O'] = -df.USOchange_O.mask(df.USOchange_O > 0, -0.0)\n",
    "df.loc[n:,'USOavg_gain_O'] = rma( df.USOgain_O[n+1:].values, n, df.loc[:n, 'USOgain_O'].mean())\n",
    "df.loc[n:,'USOavg_loss_O'] = rma( df.USOloss_O[n+1:].values, n, df.loc[:n, 'USOloss_O'].mean())\n",
    "df['USOrs_O'] = df.USOavg_gain_O / df.USOavg_loss_O\n",
    "df['USOrsi_30_O'] = 100 - (100 / (1 + df.USOrs_O))\n",
    "\n",
    "ticker_list = ['SPY','QQQ','UUP','UUP','USO']"
   ]
  },
  {
   "cell_type": "code",
   "execution_count": 32,
   "metadata": {},
   "outputs": [
    {
     "data": {
      "text/html": [
       "<div>\n",
       "<style scoped>\n",
       "    .dataframe tbody tr th:only-of-type {\n",
       "        vertical-align: middle;\n",
       "    }\n",
       "\n",
       "    .dataframe tbody tr th {\n",
       "        vertical-align: top;\n",
       "    }\n",
       "\n",
       "    .dataframe thead th {\n",
       "        text-align: right;\n",
       "    }\n",
       "</style>\n",
       "<table border=\"1\" class=\"dataframe\">\n",
       "  <thead>\n",
       "    <tr style=\"text-align: right;\">\n",
       "      <th></th>\n",
       "      <th>Unnamed: 0</th>\n",
       "      <th>GLD</th>\n",
       "      <th>GLD.1</th>\n",
       "      <th>GLD.2</th>\n",
       "      <th>GLD.3</th>\n",
       "      <th>GLD.4</th>\n",
       "      <th>QQQ</th>\n",
       "      <th>QQQ.1</th>\n",
       "      <th>QQQ.2</th>\n",
       "      <th>QQQ.3</th>\n",
       "      <th>...</th>\n",
       "      <th>SPYavg_loss_O</th>\n",
       "      <th>SPYrs_O</th>\n",
       "      <th>SPYrsi_30_O</th>\n",
       "      <th>USOchange_O</th>\n",
       "      <th>USOgain_O</th>\n",
       "      <th>USOloss_O</th>\n",
       "      <th>USOavg_gain_O</th>\n",
       "      <th>USOavg_loss_O</th>\n",
       "      <th>USOrs_O</th>\n",
       "      <th>USOrsi_30_O</th>\n",
       "    </tr>\n",
       "  </thead>\n",
       "  <tbody>\n",
       "    <tr>\n",
       "      <th>29</th>\n",
       "      <td>2015-12-21 00:00:00-05:00</td>\n",
       "      <td>102.9500000000</td>\n",
       "      <td>103.5200000000</td>\n",
       "      <td>102.8300000000</td>\n",
       "      <td>103.1600000000</td>\n",
       "      <td>4773318</td>\n",
       "      <td>108.2400000000</td>\n",
       "      <td>108.4500000000</td>\n",
       "      <td>107.4500000000</td>\n",
       "      <td>108.4300000000</td>\n",
       "      <td>...</td>\n",
       "      <td>nan</td>\n",
       "      <td>nan</td>\n",
       "      <td>nan</td>\n",
       "      <td>-0.2100000000</td>\n",
       "      <td>0.0000000000</td>\n",
       "      <td>0.2100000000</td>\n",
       "      <td>nan</td>\n",
       "      <td>nan</td>\n",
       "      <td>nan</td>\n",
       "      <td>nan</td>\n",
       "    </tr>\n",
       "    <tr>\n",
       "      <th>30</th>\n",
       "      <td>2015-12-22 00:00:00-05:00</td>\n",
       "      <td>103.0900000000</td>\n",
       "      <td>103.2000000000</td>\n",
       "      <td>102.5599000000</td>\n",
       "      <td>102.6000000000</td>\n",
       "      <td>3307823</td>\n",
       "      <td>109.0300000000</td>\n",
       "      <td>109.3200000000</td>\n",
       "      <td>108.4500000000</td>\n",
       "      <td>109.1400000000</td>\n",
       "      <td>...</td>\n",
       "      <td>0.9660000000</td>\n",
       "      <td>0.7726017943</td>\n",
       "      <td>43.5857504380</td>\n",
       "      <td>0.0800000000</td>\n",
       "      <td>0.0800000000</td>\n",
       "      <td>0.0000000000</td>\n",
       "      <td>0.0510000000</td>\n",
       "      <td>0.1650000000</td>\n",
       "      <td>0.3090909091</td>\n",
       "      <td>23.6111111111</td>\n",
       "    </tr>\n",
       "    <tr>\n",
       "      <th>31</th>\n",
       "      <td>2015-12-23 00:00:00-05:00</td>\n",
       "      <td>102.4000000000</td>\n",
       "      <td>102.5900000000</td>\n",
       "      <td>102.2100000000</td>\n",
       "      <td>102.3300000000</td>\n",
       "      <td>2143747</td>\n",
       "      <td>109.6800000000</td>\n",
       "      <td>110.0100000000</td>\n",
       "      <td>109.4900000000</td>\n",
       "      <td>109.9500000000</td>\n",
       "      <td>...</td>\n",
       "      <td>0.9338000000</td>\n",
       "      <td>0.8436377050</td>\n",
       "      <td>45.7594082985</td>\n",
       "      <td>0.3800000000</td>\n",
       "      <td>0.3800000000</td>\n",
       "      <td>0.0000000000</td>\n",
       "      <td>0.0619666667</td>\n",
       "      <td>0.1595000000</td>\n",
       "      <td>0.3885057471</td>\n",
       "      <td>27.9801324503</td>\n",
       "    </tr>\n",
       "    <tr>\n",
       "      <th>32</th>\n",
       "      <td>2015-12-24 00:00:00-05:00</td>\n",
       "      <td>102.8200000000</td>\n",
       "      <td>103.0300000000</td>\n",
       "      <td>102.7700000000</td>\n",
       "      <td>103.0100000000</td>\n",
       "      <td>1579805</td>\n",
       "      <td>109.9400000000</td>\n",
       "      <td>110.2600000000</td>\n",
       "      <td>109.9100000000</td>\n",
       "      <td>109.9300000000</td>\n",
       "      <td>...</td>\n",
       "      <td>0.9026733333</td>\n",
       "      <td>0.8809343276</td>\n",
       "      <td>46.8349327599</td>\n",
       "      <td>0.2800000000</td>\n",
       "      <td>0.2800000000</td>\n",
       "      <td>0.0000000000</td>\n",
       "      <td>0.0692344444</td>\n",
       "      <td>0.1541833333</td>\n",
       "      <td>0.4490397435</td>\n",
       "      <td>30.9887803617</td>\n",
       "    </tr>\n",
       "    <tr>\n",
       "      <th>33</th>\n",
       "      <td>2015-12-28 00:00:00-05:00</td>\n",
       "      <td>102.4800000000</td>\n",
       "      <td>102.5962000000</td>\n",
       "      <td>102.0300000000</td>\n",
       "      <td>102.2600000000</td>\n",
       "      <td>2923572</td>\n",
       "      <td>109.6900000000</td>\n",
       "      <td>109.9100000000</td>\n",
       "      <td>108.9000000000</td>\n",
       "      <td>109.8700000000</td>\n",
       "      <td>...</td>\n",
       "      <td>0.9012508889</td>\n",
       "      <td>0.8529138828</td>\n",
       "      <td>46.0309510735</td>\n",
       "      <td>-0.2800000000</td>\n",
       "      <td>0.0000000000</td>\n",
       "      <td>0.2800000000</td>\n",
       "      <td>0.0669266296</td>\n",
       "      <td>0.1583772222</td>\n",
       "      <td>0.4225773674</td>\n",
       "      <td>29.7050534554</td>\n",
       "    </tr>\n",
       "    <tr>\n",
       "      <th>34</th>\n",
       "      <td>2015-12-29 00:00:00-05:00</td>\n",
       "      <td>102.5200000000</td>\n",
       "      <td>102.5800000000</td>\n",
       "      <td>102.1100000000</td>\n",
       "      <td>102.1600000000</td>\n",
       "      <td>2563638</td>\n",
       "      <td>110.5700000000</td>\n",
       "      <td>111.8700000000</td>\n",
       "      <td>110.4900000000</td>\n",
       "      <td>111.6000000000</td>\n",
       "      <td>...</td>\n",
       "      <td>0.8712091926</td>\n",
       "      <td>0.9160445298</td>\n",
       "      <td>47.8091461643</td>\n",
       "      <td>0.1000000000</td>\n",
       "      <td>0.1000000000</td>\n",
       "      <td>0.0000000000</td>\n",
       "      <td>0.0680290753</td>\n",
       "      <td>0.1530979815</td>\n",
       "      <td>0.4443499166</td>\n",
       "      <td>30.7646998500</td>\n",
       "    </tr>\n",
       "    <tr>\n",
       "      <th>35</th>\n",
       "      <td>2015-12-30 00:00:00-05:00</td>\n",
       "      <td>101.4700000000</td>\n",
       "      <td>101.6000000000</td>\n",
       "      <td>101.3450000000</td>\n",
       "      <td>101.4300000000</td>\n",
       "      <td>2840080</td>\n",
       "      <td>111.4500000000</td>\n",
       "      <td>111.5300000000</td>\n",
       "      <td>110.5600000000</td>\n",
       "      <td>110.5900000000</td>\n",
       "      <td>...</td>\n",
       "      <td>0.8421688862</td>\n",
       "      <td>0.9397927356</td>\n",
       "      <td>48.4481005810</td>\n",
       "      <td>-0.2000000000</td>\n",
       "      <td>0.0000000000</td>\n",
       "      <td>0.2000000000</td>\n",
       "      <td>0.0657614395</td>\n",
       "      <td>0.1546613821</td>\n",
       "      <td>0.4251962486</td>\n",
       "      <td>29.8342245138</td>\n",
       "    </tr>\n",
       "    <tr>\n",
       "      <th>36</th>\n",
       "      <td>2015-12-31 00:00:00-05:00</td>\n",
       "      <td>101.4800000000</td>\n",
       "      <td>101.7200000000</td>\n",
       "      <td>101.3100000000</td>\n",
       "      <td>101.4500000000</td>\n",
       "      <td>2934400</td>\n",
       "      <td>110.1900000000</td>\n",
       "      <td>110.4000000000</td>\n",
       "      <td>109.1900000000</td>\n",
       "      <td>109.2200000000</td>\n",
       "      <td>...</td>\n",
       "      <td>0.8800965900</td>\n",
       "      <td>0.8693160161</td>\n",
       "      <td>46.5044972916</td>\n",
       "      <td>-0.1200000000</td>\n",
       "      <td>0.0000000000</td>\n",
       "      <td>0.1200000000</td>\n",
       "      <td>0.0635693915</td>\n",
       "      <td>0.1535060027</td>\n",
       "      <td>0.4141166493</td>\n",
       "      <td>29.2844758953</td>\n",
       "    </tr>\n",
       "    <tr>\n",
       "      <th>37</th>\n",
       "      <td>2016-01-04 00:00:00-05:00</td>\n",
       "      <td>103.1300000000</td>\n",
       "      <td>103.6700000000</td>\n",
       "      <td>102.4850000000</td>\n",
       "      <td>102.8700000000</td>\n",
       "      <td>5226833</td>\n",
       "      <td>106.7700000000</td>\n",
       "      <td>106.9300000000</td>\n",
       "      <td>105.4900000000</td>\n",
       "      <td>106.9100000000</td>\n",
       "      <td>...</td>\n",
       "      <td>1.0050933703</td>\n",
       "      <td>0.7358314638</td>\n",
       "      <td>42.3907204799</td>\n",
       "      <td>0.4200000000</td>\n",
       "      <td>0.4200000000</td>\n",
       "      <td>0.0000000000</td>\n",
       "      <td>0.0754504118</td>\n",
       "      <td>0.1483891359</td>\n",
       "      <td>0.5084631789</td>\n",
       "      <td>33.7073642884</td>\n",
       "    </tr>\n",
       "    <tr>\n",
       "      <th>38</th>\n",
       "      <td>2016-01-05 00:00:00-05:00</td>\n",
       "      <td>103.1300000000</td>\n",
       "      <td>103.4600000000</td>\n",
       "      <td>102.9300000000</td>\n",
       "      <td>103.1800000000</td>\n",
       "      <td>2968407</td>\n",
       "      <td>107.5100000000</td>\n",
       "      <td>107.6500000000</td>\n",
       "      <td>106.3000000000</td>\n",
       "      <td>106.7300000000</td>\n",
       "      <td>...</td>\n",
       "      <td>0.9715902580</td>\n",
       "      <td>0.7667086775</td>\n",
       "      <td>43.3975724052</td>\n",
       "      <td>-0.4700000000</td>\n",
       "      <td>0.0000000000</td>\n",
       "      <td>0.4700000000</td>\n",
       "      <td>0.0729353980</td>\n",
       "      <td>0.1591094981</td>\n",
       "      <td>0.4583975119</td>\n",
       "      <td>31.4315889994</td>\n",
       "    </tr>\n",
       "  </tbody>\n",
       "</table>\n",
       "<p>10 rows × 96 columns</p>\n",
       "</div>"
      ],
      "text/plain": [
       "                   Unnamed: 0            GLD          GLD.1          GLD.2  \\\n",
       "29  2015-12-21 00:00:00-05:00 102.9500000000 103.5200000000 102.8300000000   \n",
       "30  2015-12-22 00:00:00-05:00 103.0900000000 103.2000000000 102.5599000000   \n",
       "31  2015-12-23 00:00:00-05:00 102.4000000000 102.5900000000 102.2100000000   \n",
       "32  2015-12-24 00:00:00-05:00 102.8200000000 103.0300000000 102.7700000000   \n",
       "33  2015-12-28 00:00:00-05:00 102.4800000000 102.5962000000 102.0300000000   \n",
       "34  2015-12-29 00:00:00-05:00 102.5200000000 102.5800000000 102.1100000000   \n",
       "35  2015-12-30 00:00:00-05:00 101.4700000000 101.6000000000 101.3450000000   \n",
       "36  2015-12-31 00:00:00-05:00 101.4800000000 101.7200000000 101.3100000000   \n",
       "37  2016-01-04 00:00:00-05:00 103.1300000000 103.6700000000 102.4850000000   \n",
       "38  2016-01-05 00:00:00-05:00 103.1300000000 103.4600000000 102.9300000000   \n",
       "\n",
       "            GLD.3    GLD.4            QQQ          QQQ.1          QQQ.2  \\\n",
       "29 103.1600000000  4773318 108.2400000000 108.4500000000 107.4500000000   \n",
       "30 102.6000000000  3307823 109.0300000000 109.3200000000 108.4500000000   \n",
       "31 102.3300000000  2143747 109.6800000000 110.0100000000 109.4900000000   \n",
       "32 103.0100000000  1579805 109.9400000000 110.2600000000 109.9100000000   \n",
       "33 102.2600000000  2923572 109.6900000000 109.9100000000 108.9000000000   \n",
       "34 102.1600000000  2563638 110.5700000000 111.8700000000 110.4900000000   \n",
       "35 101.4300000000  2840080 111.4500000000 111.5300000000 110.5600000000   \n",
       "36 101.4500000000  2934400 110.1900000000 110.4000000000 109.1900000000   \n",
       "37 102.8700000000  5226833 106.7700000000 106.9300000000 105.4900000000   \n",
       "38 103.1800000000  2968407 107.5100000000 107.6500000000 106.3000000000   \n",
       "\n",
       "            QQQ.3  ...  SPYavg_loss_O      SPYrs_O   SPYrsi_30_O  \\\n",
       "29 108.4300000000  ...            nan          nan           nan   \n",
       "30 109.1400000000  ...   0.9660000000 0.7726017943 43.5857504380   \n",
       "31 109.9500000000  ...   0.9338000000 0.8436377050 45.7594082985   \n",
       "32 109.9300000000  ...   0.9026733333 0.8809343276 46.8349327599   \n",
       "33 109.8700000000  ...   0.9012508889 0.8529138828 46.0309510735   \n",
       "34 111.6000000000  ...   0.8712091926 0.9160445298 47.8091461643   \n",
       "35 110.5900000000  ...   0.8421688862 0.9397927356 48.4481005810   \n",
       "36 109.2200000000  ...   0.8800965900 0.8693160161 46.5044972916   \n",
       "37 106.9100000000  ...   1.0050933703 0.7358314638 42.3907204799   \n",
       "38 106.7300000000  ...   0.9715902580 0.7667086775 43.3975724052   \n",
       "\n",
       "     USOchange_O    USOgain_O    USOloss_O  USOavg_gain_O  USOavg_loss_O  \\\n",
       "29 -0.2100000000 0.0000000000 0.2100000000            nan            nan   \n",
       "30  0.0800000000 0.0800000000 0.0000000000   0.0510000000   0.1650000000   \n",
       "31  0.3800000000 0.3800000000 0.0000000000   0.0619666667   0.1595000000   \n",
       "32  0.2800000000 0.2800000000 0.0000000000   0.0692344444   0.1541833333   \n",
       "33 -0.2800000000 0.0000000000 0.2800000000   0.0669266296   0.1583772222   \n",
       "34  0.1000000000 0.1000000000 0.0000000000   0.0680290753   0.1530979815   \n",
       "35 -0.2000000000 0.0000000000 0.2000000000   0.0657614395   0.1546613821   \n",
       "36 -0.1200000000 0.0000000000 0.1200000000   0.0635693915   0.1535060027   \n",
       "37  0.4200000000 0.4200000000 0.0000000000   0.0754504118   0.1483891359   \n",
       "38 -0.4700000000 0.0000000000 0.4700000000   0.0729353980   0.1591094981   \n",
       "\n",
       "        USOrs_O   USOrsi_30_O  \n",
       "29          nan           nan  \n",
       "30 0.3090909091 23.6111111111  \n",
       "31 0.3885057471 27.9801324503  \n",
       "32 0.4490397435 30.9887803617  \n",
       "33 0.4225773674 29.7050534554  \n",
       "34 0.4443499166 30.7646998500  \n",
       "35 0.4251962486 29.8342245138  \n",
       "36 0.4141166493 29.2844758953  \n",
       "37 0.5084631789 33.7073642884  \n",
       "38 0.4583975119 31.4315889994  \n",
       "\n",
       "[10 rows x 96 columns]"
      ]
     },
     "execution_count": 32,
     "metadata": {},
     "output_type": "execute_result"
    }
   ],
   "source": [
    "df[29:39]"
   ]
  },
  {
   "cell_type": "code",
   "execution_count": 33,
   "metadata": {},
   "outputs": [
    {
     "data": {
      "text/html": [
       "<div>\n",
       "<style scoped>\n",
       "    .dataframe tbody tr th:only-of-type {\n",
       "        vertical-align: middle;\n",
       "    }\n",
       "\n",
       "    .dataframe tbody tr th {\n",
       "        vertical-align: top;\n",
       "    }\n",
       "\n",
       "    .dataframe thead th {\n",
       "        text-align: right;\n",
       "    }\n",
       "</style>\n",
       "<table border=\"1\" class=\"dataframe\">\n",
       "  <thead>\n",
       "    <tr style=\"text-align: right;\">\n",
       "      <th></th>\n",
       "      <th>Unnamed: 0</th>\n",
       "      <th>GLD</th>\n",
       "      <th>GLD.1</th>\n",
       "      <th>GLD.2</th>\n",
       "      <th>GLD.3</th>\n",
       "      <th>GLD.4</th>\n",
       "      <th>QQQ</th>\n",
       "      <th>QQQ.1</th>\n",
       "      <th>QQQ.2</th>\n",
       "      <th>QQQ.3</th>\n",
       "      <th>...</th>\n",
       "      <th>GLDPctChg_Close</th>\n",
       "      <th>GLDPctChg_Open</th>\n",
       "      <th>QQQPctChg_Close</th>\n",
       "      <th>QQQPctChg_Open</th>\n",
       "      <th>UUPPctChg_Close</th>\n",
       "      <th>UUPPctChg_Open</th>\n",
       "      <th>USOPctChg_Close</th>\n",
       "      <th>USOPctChg_Open</th>\n",
       "      <th>SPYPctChg_USO</th>\n",
       "      <th>SPYPctChg_Open</th>\n",
       "    </tr>\n",
       "  </thead>\n",
       "  <tbody>\n",
       "    <tr>\n",
       "      <th>0</th>\n",
       "      <td>2015-11-09 00:00:00-05:00</td>\n",
       "      <td>104.2900000000</td>\n",
       "      <td>104.5800000000</td>\n",
       "      <td>104.1900000000</td>\n",
       "      <td>104.4200000000</td>\n",
       "      <td>2952497</td>\n",
       "      <td>111.3100000000</td>\n",
       "      <td>111.4500000000</td>\n",
       "      <td>109.8500000000</td>\n",
       "      <td>110.5500000000</td>\n",
       "      <td>...</td>\n",
       "      <td>nan</td>\n",
       "      <td>nan</td>\n",
       "      <td>nan</td>\n",
       "      <td>nan</td>\n",
       "      <td>nan</td>\n",
       "      <td>nan</td>\n",
       "      <td>nan</td>\n",
       "      <td>nan</td>\n",
       "      <td>nan</td>\n",
       "      <td>nan</td>\n",
       "    </tr>\n",
       "    <tr>\n",
       "      <th>1</th>\n",
       "      <td>2015-11-10 00:00:00-05:00</td>\n",
       "      <td>104.0900000000</td>\n",
       "      <td>104.6500000000</td>\n",
       "      <td>103.8700000000</td>\n",
       "      <td>104.1600000000</td>\n",
       "      <td>3251645</td>\n",
       "      <td>109.9600000000</td>\n",
       "      <td>110.3700000000</td>\n",
       "      <td>109.6300000000</td>\n",
       "      <td>110.2700000000</td>\n",
       "      <td>...</td>\n",
       "      <td>nan</td>\n",
       "      <td>nan</td>\n",
       "      <td>nan</td>\n",
       "      <td>nan</td>\n",
       "      <td>nan</td>\n",
       "      <td>nan</td>\n",
       "      <td>nan</td>\n",
       "      <td>nan</td>\n",
       "      <td>nan</td>\n",
       "      <td>nan</td>\n",
       "    </tr>\n",
       "    <tr>\n",
       "      <th>2</th>\n",
       "      <td>2015-11-11 00:00:00-05:00</td>\n",
       "      <td>104.0900000000</td>\n",
       "      <td>104.2300000000</td>\n",
       "      <td>103.7800000000</td>\n",
       "      <td>103.8100000000</td>\n",
       "      <td>2816992</td>\n",
       "      <td>110.6000000000</td>\n",
       "      <td>111.1300000000</td>\n",
       "      <td>109.9800000000</td>\n",
       "      <td>110.1300000000</td>\n",
       "      <td>...</td>\n",
       "      <td>nan</td>\n",
       "      <td>nan</td>\n",
       "      <td>nan</td>\n",
       "      <td>nan</td>\n",
       "      <td>nan</td>\n",
       "      <td>nan</td>\n",
       "      <td>nan</td>\n",
       "      <td>nan</td>\n",
       "      <td>nan</td>\n",
       "      <td>nan</td>\n",
       "    </tr>\n",
       "    <tr>\n",
       "      <th>3</th>\n",
       "      <td>2015-11-12 00:00:00-05:00</td>\n",
       "      <td>103.0900000000</td>\n",
       "      <td>104.3200000000</td>\n",
       "      <td>103.0400000000</td>\n",
       "      <td>103.8311000000</td>\n",
       "      <td>4859175</td>\n",
       "      <td>109.6800000000</td>\n",
       "      <td>110.2500000000</td>\n",
       "      <td>109.0100000000</td>\n",
       "      <td>109.0600000000</td>\n",
       "      <td>...</td>\n",
       "      <td>nan</td>\n",
       "      <td>nan</td>\n",
       "      <td>nan</td>\n",
       "      <td>nan</td>\n",
       "      <td>nan</td>\n",
       "      <td>nan</td>\n",
       "      <td>nan</td>\n",
       "      <td>nan</td>\n",
       "      <td>nan</td>\n",
       "      <td>nan</td>\n",
       "    </tr>\n",
       "    <tr>\n",
       "      <th>4</th>\n",
       "      <td>2015-11-13 00:00:00-05:00</td>\n",
       "      <td>103.5400000000</td>\n",
       "      <td>103.7400000000</td>\n",
       "      <td>103.4500000000</td>\n",
       "      <td>103.5800000000</td>\n",
       "      <td>2717184</td>\n",
       "      <td>108.5900000000</td>\n",
       "      <td>108.7100000000</td>\n",
       "      <td>106.8500000000</td>\n",
       "      <td>106.9200000000</td>\n",
       "      <td>...</td>\n",
       "      <td>nan</td>\n",
       "      <td>nan</td>\n",
       "      <td>nan</td>\n",
       "      <td>nan</td>\n",
       "      <td>nan</td>\n",
       "      <td>nan</td>\n",
       "      <td>nan</td>\n",
       "      <td>nan</td>\n",
       "      <td>nan</td>\n",
       "      <td>nan</td>\n",
       "    </tr>\n",
       "    <tr>\n",
       "      <th>5</th>\n",
       "      <td>2015-11-16 00:00:00-05:00</td>\n",
       "      <td>103.9800000000</td>\n",
       "      <td>104.0300000000</td>\n",
       "      <td>103.5150000000</td>\n",
       "      <td>103.6900000000</td>\n",
       "      <td>2547625</td>\n",
       "      <td>106.8200000000</td>\n",
       "      <td>108.5100000000</td>\n",
       "      <td>106.6000000000</td>\n",
       "      <td>108.4600000000</td>\n",
       "      <td>...</td>\n",
       "      <td>-0.0069909979</td>\n",
       "      <td>-0.0029724806</td>\n",
       "      <td>-0.0189054726</td>\n",
       "      <td>-0.0403377953</td>\n",
       "      <td>0.0040721350</td>\n",
       "      <td>-0.0011600928</td>\n",
       "      <td>-0.0476190476</td>\n",
       "      <td>-0.0780141844</td>\n",
       "      <td>-0.0118235124</td>\n",
       "      <td>-0.0333954422</td>\n",
       "    </tr>\n",
       "    <tr>\n",
       "      <th>6</th>\n",
       "      <td>2015-11-17 00:00:00-05:00</td>\n",
       "      <td>103.3800000000</td>\n",
       "      <td>103.3999000000</td>\n",
       "      <td>101.9800000000</td>\n",
       "      <td>102.3700000000</td>\n",
       "      <td>7062130</td>\n",
       "      <td>108.6600000000</td>\n",
       "      <td>109.3200000000</td>\n",
       "      <td>108.2700000000</td>\n",
       "      <td>108.5200000000</td>\n",
       "      <td>...</td>\n",
       "      <td>-0.0171850998</td>\n",
       "      <td>-0.0068210203</td>\n",
       "      <td>-0.0158701369</td>\n",
       "      <td>-0.0118224809</td>\n",
       "      <td>0.0030947776</td>\n",
       "      <td>0.0015449981</td>\n",
       "      <td>-0.0780141844</td>\n",
       "      <td>-0.0592857143</td>\n",
       "      <td>-0.0150112704</td>\n",
       "      <td>-0.0072771084</td>\n",
       "    </tr>\n",
       "  </tbody>\n",
       "</table>\n",
       "<p>7 rows × 106 columns</p>\n",
       "</div>"
      ],
      "text/plain": [
       "                  Unnamed: 0            GLD          GLD.1          GLD.2  \\\n",
       "0  2015-11-09 00:00:00-05:00 104.2900000000 104.5800000000 104.1900000000   \n",
       "1  2015-11-10 00:00:00-05:00 104.0900000000 104.6500000000 103.8700000000   \n",
       "2  2015-11-11 00:00:00-05:00 104.0900000000 104.2300000000 103.7800000000   \n",
       "3  2015-11-12 00:00:00-05:00 103.0900000000 104.3200000000 103.0400000000   \n",
       "4  2015-11-13 00:00:00-05:00 103.5400000000 103.7400000000 103.4500000000   \n",
       "5  2015-11-16 00:00:00-05:00 103.9800000000 104.0300000000 103.5150000000   \n",
       "6  2015-11-17 00:00:00-05:00 103.3800000000 103.3999000000 101.9800000000   \n",
       "\n",
       "           GLD.3    GLD.4            QQQ          QQQ.1          QQQ.2  \\\n",
       "0 104.4200000000  2952497 111.3100000000 111.4500000000 109.8500000000   \n",
       "1 104.1600000000  3251645 109.9600000000 110.3700000000 109.6300000000   \n",
       "2 103.8100000000  2816992 110.6000000000 111.1300000000 109.9800000000   \n",
       "3 103.8311000000  4859175 109.6800000000 110.2500000000 109.0100000000   \n",
       "4 103.5800000000  2717184 108.5900000000 108.7100000000 106.8500000000   \n",
       "5 103.6900000000  2547625 106.8200000000 108.5100000000 106.6000000000   \n",
       "6 102.3700000000  7062130 108.6600000000 109.3200000000 108.2700000000   \n",
       "\n",
       "           QQQ.3  ...  GLDPctChg_Close  GLDPctChg_Open  QQQPctChg_Close  \\\n",
       "0 110.5500000000  ...              nan             nan              nan   \n",
       "1 110.2700000000  ...              nan             nan              nan   \n",
       "2 110.1300000000  ...              nan             nan              nan   \n",
       "3 109.0600000000  ...              nan             nan              nan   \n",
       "4 106.9200000000  ...              nan             nan              nan   \n",
       "5 108.4600000000  ...    -0.0069909979   -0.0029724806    -0.0189054726   \n",
       "6 108.5200000000  ...    -0.0171850998   -0.0068210203    -0.0158701369   \n",
       "\n",
       "   QQQPctChg_Open  UUPPctChg_Close  UUPPctChg_Open  USOPctChg_Close  \\\n",
       "0             nan              nan             nan              nan   \n",
       "1             nan              nan             nan              nan   \n",
       "2             nan              nan             nan              nan   \n",
       "3             nan              nan             nan              nan   \n",
       "4             nan              nan             nan              nan   \n",
       "5   -0.0403377953     0.0040721350   -0.0011600928    -0.0476190476   \n",
       "6   -0.0118224809     0.0030947776    0.0015449981    -0.0780141844   \n",
       "\n",
       "   USOPctChg_Open  SPYPctChg_USO  SPYPctChg_Open  \n",
       "0             nan            nan             nan  \n",
       "1             nan            nan             nan  \n",
       "2             nan            nan             nan  \n",
       "3             nan            nan             nan  \n",
       "4             nan            nan             nan  \n",
       "5   -0.0780141844  -0.0118235124   -0.0333954422  \n",
       "6   -0.0592857143  -0.0150112704   -0.0072771084  \n",
       "\n",
       "[7 rows x 106 columns]"
      ]
     },
     "execution_count": 33,
     "metadata": {},
     "output_type": "execute_result"
    }
   ],
   "source": [
    "#calculate percent change open and close prices\n",
    "df['GLDPctChg_Close']=df['GLD.3'].pct_change(periods=5)\n",
    "df['GLDPctChg_Open']=df['GLD'].pct_change(periods=5)\n",
    "\n",
    "df['QQQPctChg_Close']=df['QQQ.3'].pct_change(periods=5)\n",
    "df['QQQPctChg_Open']=df['QQQ'].pct_change(periods=5)\n",
    "\n",
    "df['UUPPctChg_Close']=df['UUP.3'].pct_change(periods=5)\n",
    "df['UUPPctChg_Open']=df['UUP'].pct_change(periods=5)\n",
    "\n",
    "df['USOPctChg_Close']=df['USO.3'].pct_change(periods=5)\n",
    "df['USOPctChg_Open']=df['USO'].pct_change(periods=5)\n",
    "\n",
    "df['SPYPctChg_USO']=df['SPY.3'].pct_change(periods=5)\n",
    "df['SPYPctChg_Open']=df['SPY'].pct_change(periods=5)\n",
    "\n",
    "df.head(7)"
   ]
  },
  {
   "cell_type": "code",
   "execution_count": null,
   "metadata": {},
   "outputs": [],
   "source": []
  }
 ],
 "metadata": {
  "kernelspec": {
   "display_name": "Python 3",
   "language": "python",
   "name": "python3"
  },
  "language_info": {
   "codemirror_mode": {
    "name": "ipython",
    "version": 3
   },
   "file_extension": ".py",
   "mimetype": "text/x-python",
   "name": "python",
   "nbconvert_exporter": "python",
   "pygments_lexer": "ipython3",
   "version": "3.7.6"
  }
 },
 "nbformat": 4,
 "nbformat_minor": 4
}
